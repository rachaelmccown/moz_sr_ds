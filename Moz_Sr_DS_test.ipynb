{
 "cells": [
  {
   "cell_type": "code",
   "execution_count": 1,
   "metadata": {},
   "outputs": [],
   "source": [
    "import pandas as pd\n",
    "import seaborn as sns\n",
    "import matplotlib.pyplot as plt\n",
    "from sklearn.model_selection import train_test_split \n",
    "from sklearn.linear_model import LinearRegression\n",
    "from scipy import stats\n",
    "import numpy as np\n",
    "from sklearn.metrics import mean_squared_error, r2_score, mean_squared_error\n",
    "import statsmodels.api as sm\n",
    "from scipy import stats\n",
    "from sklearn import preprocessing\n",
    "from sklearn.preprocessing import MinMaxScaler"
   ]
  },
  {
   "cell_type": "markdown",
   "metadata": {},
   "source": [
    "# Question 1:"
   ]
  },
  {
   "cell_type": "code",
   "execution_count": 2,
   "metadata": {},
   "outputs": [],
   "source": [
    "# Load in training data and take a look at it\n",
    "train = pd.read_csv('/Users/rachaelmccown/Desktop/moz_customer_data_train.csv', delimiter='|')"
   ]
  },
  {
   "cell_type": "code",
   "execution_count": 3,
   "metadata": {},
   "outputs": [
    {
     "data": {
      "text/html": [
       "<div>\n",
       "<style scoped>\n",
       "    .dataframe tbody tr th:only-of-type {\n",
       "        vertical-align: middle;\n",
       "    }\n",
       "\n",
       "    .dataframe tbody tr th {\n",
       "        vertical-align: top;\n",
       "    }\n",
       "\n",
       "    .dataframe thead th {\n",
       "        text-align: right;\n",
       "    }\n",
       "</style>\n",
       "<table border=\"1\" class=\"dataframe\">\n",
       "  <thead>\n",
       "    <tr style=\"text-align: right;\">\n",
       "      <th></th>\n",
       "      <th>id</th>\n",
       "      <th>industry</th>\n",
       "      <th>geography</th>\n",
       "      <th>most_common_browser</th>\n",
       "      <th>session_time_prior_month_seconds</th>\n",
       "      <th>prior_month_paid</th>\n",
       "    </tr>\n",
       "  </thead>\n",
       "  <tbody>\n",
       "    <tr>\n",
       "      <th>0</th>\n",
       "      <td>1585597623</td>\n",
       "      <td>NaN</td>\n",
       "      <td>GB</td>\n",
       "      <td>Chrome</td>\n",
       "      <td>1092</td>\n",
       "      <td>25.607595</td>\n",
       "    </tr>\n",
       "    <tr>\n",
       "      <th>1</th>\n",
       "      <td>6531970533</td>\n",
       "      <td>healthcare</td>\n",
       "      <td>US</td>\n",
       "      <td>Firefox</td>\n",
       "      <td>2480</td>\n",
       "      <td>115.579494</td>\n",
       "    </tr>\n",
       "    <tr>\n",
       "      <th>2</th>\n",
       "      <td>8443866239</td>\n",
       "      <td>health care</td>\n",
       "      <td>Canada</td>\n",
       "      <td>Chrome</td>\n",
       "      <td>1671</td>\n",
       "      <td>89.462246</td>\n",
       "    </tr>\n",
       "    <tr>\n",
       "      <th>3</th>\n",
       "      <td>1480089466</td>\n",
       "      <td>healthcare</td>\n",
       "      <td>Greece</td>\n",
       "      <td>Chrome</td>\n",
       "      <td>465</td>\n",
       "      <td>33.836123</td>\n",
       "    </tr>\n",
       "    <tr>\n",
       "      <th>4</th>\n",
       "      <td>6170390298</td>\n",
       "      <td>marketing agency</td>\n",
       "      <td>USA</td>\n",
       "      <td>Firefox</td>\n",
       "      <td>1477</td>\n",
       "      <td>129.394415</td>\n",
       "    </tr>\n",
       "  </tbody>\n",
       "</table>\n",
       "</div>"
      ],
      "text/plain": [
       "           id          industry geography most_common_browser  \\\n",
       "0  1585597623               NaN        GB              Chrome   \n",
       "1  6531970533        healthcare        US             Firefox   \n",
       "2  8443866239       health care    Canada              Chrome   \n",
       "3  1480089466        healthcare    Greece              Chrome   \n",
       "4  6170390298  marketing agency       USA             Firefox   \n",
       "\n",
       "   session_time_prior_month_seconds  prior_month_paid  \n",
       "0                              1092         25.607595  \n",
       "1                              2480        115.579494  \n",
       "2                              1671         89.462246  \n",
       "3                               465         33.836123  \n",
       "4                              1477        129.394415  "
      ]
     },
     "execution_count": 3,
     "metadata": {},
     "output_type": "execute_result"
    }
   ],
   "source": [
    "train.head()"
   ]
  },
  {
   "cell_type": "code",
   "execution_count": 4,
   "metadata": {},
   "outputs": [
    {
     "data": {
      "text/html": [
       "<div>\n",
       "<style scoped>\n",
       "    .dataframe tbody tr th:only-of-type {\n",
       "        vertical-align: middle;\n",
       "    }\n",
       "\n",
       "    .dataframe tbody tr th {\n",
       "        vertical-align: top;\n",
       "    }\n",
       "\n",
       "    .dataframe thead th {\n",
       "        text-align: right;\n",
       "    }\n",
       "</style>\n",
       "<table border=\"1\" class=\"dataframe\">\n",
       "  <thead>\n",
       "    <tr style=\"text-align: right;\">\n",
       "      <th></th>\n",
       "      <th>id</th>\n",
       "      <th>session_time_prior_month_seconds</th>\n",
       "      <th>prior_month_paid</th>\n",
       "    </tr>\n",
       "  </thead>\n",
       "  <tbody>\n",
       "    <tr>\n",
       "      <th>count</th>\n",
       "      <td>4.800000e+04</td>\n",
       "      <td>48000.000000</td>\n",
       "      <td>48000.000000</td>\n",
       "    </tr>\n",
       "    <tr>\n",
       "      <th>mean</th>\n",
       "      <td>4.997442e+09</td>\n",
       "      <td>1952.151854</td>\n",
       "      <td>85.624461</td>\n",
       "    </tr>\n",
       "    <tr>\n",
       "      <th>std</th>\n",
       "      <td>2.896754e+09</td>\n",
       "      <td>2579.835645</td>\n",
       "      <td>32.754654</td>\n",
       "    </tr>\n",
       "    <tr>\n",
       "      <th>min</th>\n",
       "      <td>3.134830e+05</td>\n",
       "      <td>1.000000</td>\n",
       "      <td>0.040000</td>\n",
       "    </tr>\n",
       "    <tr>\n",
       "      <th>25%</th>\n",
       "      <td>2.481218e+09</td>\n",
       "      <td>612.000000</td>\n",
       "      <td>63.845328</td>\n",
       "    </tr>\n",
       "    <tr>\n",
       "      <th>50%</th>\n",
       "      <td>4.993512e+09</td>\n",
       "      <td>1210.000000</td>\n",
       "      <td>87.822595</td>\n",
       "    </tr>\n",
       "    <tr>\n",
       "      <th>75%</th>\n",
       "      <td>7.516707e+09</td>\n",
       "      <td>2289.000000</td>\n",
       "      <td>111.080471</td>\n",
       "    </tr>\n",
       "    <tr>\n",
       "      <th>max</th>\n",
       "      <td>9.999608e+09</td>\n",
       "      <td>50233.000000</td>\n",
       "      <td>165.758664</td>\n",
       "    </tr>\n",
       "  </tbody>\n",
       "</table>\n",
       "</div>"
      ],
      "text/plain": [
       "                 id  session_time_prior_month_seconds  prior_month_paid\n",
       "count  4.800000e+04                      48000.000000      48000.000000\n",
       "mean   4.997442e+09                       1952.151854         85.624461\n",
       "std    2.896754e+09                       2579.835645         32.754654\n",
       "min    3.134830e+05                          1.000000          0.040000\n",
       "25%    2.481218e+09                        612.000000         63.845328\n",
       "50%    4.993512e+09                       1210.000000         87.822595\n",
       "75%    7.516707e+09                       2289.000000        111.080471\n",
       "max    9.999608e+09                      50233.000000        165.758664"
      ]
     },
     "execution_count": 4,
     "metadata": {},
     "output_type": "execute_result"
    }
   ],
   "source": [
    "train.describe()"
   ]
  },
  {
   "cell_type": "code",
   "execution_count": 5,
   "metadata": {},
   "outputs": [
    {
     "data": {
      "text/html": [
       "<div>\n",
       "<style scoped>\n",
       "    .dataframe tbody tr th:only-of-type {\n",
       "        vertical-align: middle;\n",
       "    }\n",
       "\n",
       "    .dataframe tbody tr th {\n",
       "        vertical-align: top;\n",
       "    }\n",
       "\n",
       "    .dataframe thead th {\n",
       "        text-align: right;\n",
       "    }\n",
       "</style>\n",
       "<table border=\"1\" class=\"dataframe\">\n",
       "  <thead>\n",
       "    <tr style=\"text-align: right;\">\n",
       "      <th></th>\n",
       "      <th>id</th>\n",
       "      <th>industry</th>\n",
       "      <th>geography</th>\n",
       "      <th>most_common_browser</th>\n",
       "      <th>session_time_prior_month_seconds</th>\n",
       "      <th>prior_month_paid</th>\n",
       "      <th>session_time_prior_month_minutes</th>\n",
       "    </tr>\n",
       "  </thead>\n",
       "  <tbody>\n",
       "    <tr>\n",
       "      <th>0</th>\n",
       "      <td>1585597623</td>\n",
       "      <td>NaN</td>\n",
       "      <td>GB</td>\n",
       "      <td>Chrome</td>\n",
       "      <td>1092</td>\n",
       "      <td>25.607595</td>\n",
       "      <td>18.200000</td>\n",
       "    </tr>\n",
       "    <tr>\n",
       "      <th>1</th>\n",
       "      <td>6531970533</td>\n",
       "      <td>healthcare</td>\n",
       "      <td>US</td>\n",
       "      <td>Firefox</td>\n",
       "      <td>2480</td>\n",
       "      <td>115.579494</td>\n",
       "      <td>41.333333</td>\n",
       "    </tr>\n",
       "    <tr>\n",
       "      <th>2</th>\n",
       "      <td>8443866239</td>\n",
       "      <td>health care</td>\n",
       "      <td>Canada</td>\n",
       "      <td>Chrome</td>\n",
       "      <td>1671</td>\n",
       "      <td>89.462246</td>\n",
       "      <td>27.850000</td>\n",
       "    </tr>\n",
       "    <tr>\n",
       "      <th>3</th>\n",
       "      <td>1480089466</td>\n",
       "      <td>healthcare</td>\n",
       "      <td>Greece</td>\n",
       "      <td>Chrome</td>\n",
       "      <td>465</td>\n",
       "      <td>33.836123</td>\n",
       "      <td>7.750000</td>\n",
       "    </tr>\n",
       "    <tr>\n",
       "      <th>4</th>\n",
       "      <td>6170390298</td>\n",
       "      <td>marketing agency</td>\n",
       "      <td>USA</td>\n",
       "      <td>Firefox</td>\n",
       "      <td>1477</td>\n",
       "      <td>129.394415</td>\n",
       "      <td>24.616667</td>\n",
       "    </tr>\n",
       "  </tbody>\n",
       "</table>\n",
       "</div>"
      ],
      "text/plain": [
       "           id          industry geography most_common_browser  \\\n",
       "0  1585597623               NaN        GB              Chrome   \n",
       "1  6531970533        healthcare        US             Firefox   \n",
       "2  8443866239       health care    Canada              Chrome   \n",
       "3  1480089466        healthcare    Greece              Chrome   \n",
       "4  6170390298  marketing agency       USA             Firefox   \n",
       "\n",
       "   session_time_prior_month_seconds  prior_month_paid  \\\n",
       "0                              1092         25.607595   \n",
       "1                              2480        115.579494   \n",
       "2                              1671         89.462246   \n",
       "3                               465         33.836123   \n",
       "4                              1477        129.394415   \n",
       "\n",
       "   session_time_prior_month_minutes  \n",
       "0                         18.200000  \n",
       "1                         41.333333  \n",
       "2                         27.850000  \n",
       "3                          7.750000  \n",
       "4                         24.616667  "
      ]
     },
     "execution_count": 5,
     "metadata": {},
     "output_type": "execute_result"
    }
   ],
   "source": [
    "# Convert seconds to minutes\n",
    "train['session_time_prior_month_minutes'] = train['session_time_prior_month_seconds'] / 60\n",
    "train.head()"
   ]
  },
  {
   "cell_type": "code",
   "execution_count": 6,
   "metadata": {},
   "outputs": [
    {
     "data": {
      "text/plain": [
       "id                                    int64\n",
       "industry                             object\n",
       "geography                            object\n",
       "most_common_browser                  object\n",
       "session_time_prior_month_seconds      int64\n",
       "prior_month_paid                    float64\n",
       "session_time_prior_month_minutes    float64\n",
       "dtype: object"
      ]
     },
     "execution_count": 6,
     "metadata": {},
     "output_type": "execute_result"
    }
   ],
   "source": [
    "train.dtypes"
   ]
  },
  {
   "cell_type": "code",
   "execution_count": 7,
   "metadata": {},
   "outputs": [
    {
     "data": {
      "text/plain": [
       "id                                     0\n",
       "industry                            7364\n",
       "geography                              0\n",
       "most_common_browser                    0\n",
       "session_time_prior_month_seconds       0\n",
       "prior_month_paid                       0\n",
       "session_time_prior_month_minutes       0\n",
       "dtype: int64"
      ]
     },
     "execution_count": 7,
     "metadata": {},
     "output_type": "execute_result"
    }
   ],
   "source": [
    "# Check for null values\n",
    "train.isnull().sum(axis = 0)"
   ]
  },
  {
   "cell_type": "code",
   "execution_count": 8,
   "metadata": {},
   "outputs": [
    {
     "data": {
      "text/html": [
       "<div>\n",
       "<style scoped>\n",
       "    .dataframe tbody tr th:only-of-type {\n",
       "        vertical-align: middle;\n",
       "    }\n",
       "\n",
       "    .dataframe tbody tr th {\n",
       "        vertical-align: top;\n",
       "    }\n",
       "\n",
       "    .dataframe thead th {\n",
       "        text-align: right;\n",
       "    }\n",
       "</style>\n",
       "<table border=\"1\" class=\"dataframe\">\n",
       "  <thead>\n",
       "    <tr style=\"text-align: right;\">\n",
       "      <th></th>\n",
       "      <th>id</th>\n",
       "      <th>industry</th>\n",
       "      <th>geography</th>\n",
       "      <th>most_common_browser</th>\n",
       "      <th>session_time_prior_month_seconds</th>\n",
       "      <th>prior_month_paid</th>\n",
       "      <th>session_time_prior_month_minutes</th>\n",
       "    </tr>\n",
       "  </thead>\n",
       "  <tbody>\n",
       "    <tr>\n",
       "      <th>0</th>\n",
       "      <td>1585597623</td>\n",
       "      <td>unknown</td>\n",
       "      <td>GB</td>\n",
       "      <td>Chrome</td>\n",
       "      <td>1092</td>\n",
       "      <td>25.607595</td>\n",
       "      <td>18.200000</td>\n",
       "    </tr>\n",
       "    <tr>\n",
       "      <th>1</th>\n",
       "      <td>6531970533</td>\n",
       "      <td>healthcare</td>\n",
       "      <td>US</td>\n",
       "      <td>Firefox</td>\n",
       "      <td>2480</td>\n",
       "      <td>115.579494</td>\n",
       "      <td>41.333333</td>\n",
       "    </tr>\n",
       "    <tr>\n",
       "      <th>2</th>\n",
       "      <td>8443866239</td>\n",
       "      <td>health care</td>\n",
       "      <td>Canada</td>\n",
       "      <td>Chrome</td>\n",
       "      <td>1671</td>\n",
       "      <td>89.462246</td>\n",
       "      <td>27.850000</td>\n",
       "    </tr>\n",
       "    <tr>\n",
       "      <th>3</th>\n",
       "      <td>1480089466</td>\n",
       "      <td>healthcare</td>\n",
       "      <td>Greece</td>\n",
       "      <td>Chrome</td>\n",
       "      <td>465</td>\n",
       "      <td>33.836123</td>\n",
       "      <td>7.750000</td>\n",
       "    </tr>\n",
       "    <tr>\n",
       "      <th>4</th>\n",
       "      <td>6170390298</td>\n",
       "      <td>marketing agency</td>\n",
       "      <td>USA</td>\n",
       "      <td>Firefox</td>\n",
       "      <td>1477</td>\n",
       "      <td>129.394415</td>\n",
       "      <td>24.616667</td>\n",
       "    </tr>\n",
       "  </tbody>\n",
       "</table>\n",
       "</div>"
      ],
      "text/plain": [
       "           id          industry geography most_common_browser  \\\n",
       "0  1585597623           unknown        GB              Chrome   \n",
       "1  6531970533        healthcare        US             Firefox   \n",
       "2  8443866239       health care    Canada              Chrome   \n",
       "3  1480089466        healthcare    Greece              Chrome   \n",
       "4  6170390298  marketing agency       USA             Firefox   \n",
       "\n",
       "   session_time_prior_month_seconds  prior_month_paid  \\\n",
       "0                              1092         25.607595   \n",
       "1                              2480        115.579494   \n",
       "2                              1671         89.462246   \n",
       "3                               465         33.836123   \n",
       "4                              1477        129.394415   \n",
       "\n",
       "   session_time_prior_month_minutes  \n",
       "0                         18.200000  \n",
       "1                         41.333333  \n",
       "2                         27.850000  \n",
       "3                          7.750000  \n",
       "4                         24.616667  "
      ]
     },
     "execution_count": 8,
     "metadata": {},
     "output_type": "execute_result"
    }
   ],
   "source": [
    "# Fill null values in industry column with 'unknown'\n",
    "train['industry'] = train['industry'].fillna('unknown')\n",
    "train.head()"
   ]
  },
  {
   "cell_type": "code",
   "execution_count": 9,
   "metadata": {},
   "outputs": [
    {
     "data": {
      "text/plain": [
       "id                                  0\n",
       "industry                            0\n",
       "geography                           0\n",
       "most_common_browser                 0\n",
       "session_time_prior_month_seconds    0\n",
       "prior_month_paid                    0\n",
       "session_time_prior_month_minutes    0\n",
       "dtype: int64"
      ]
     },
     "execution_count": 9,
     "metadata": {},
     "output_type": "execute_result"
    }
   ],
   "source": [
    "# Make sure NAs were replaced properly\n",
    "train.isnull().sum(axis = 0)"
   ]
  },
  {
   "cell_type": "code",
   "execution_count": 10,
   "metadata": {},
   "outputs": [
    {
     "data": {
      "text/html": [
       "<div>\n",
       "<style scoped>\n",
       "    .dataframe tbody tr th:only-of-type {\n",
       "        vertical-align: middle;\n",
       "    }\n",
       "\n",
       "    .dataframe tbody tr th {\n",
       "        vertical-align: top;\n",
       "    }\n",
       "\n",
       "    .dataframe thead th {\n",
       "        text-align: right;\n",
       "    }\n",
       "</style>\n",
       "<table border=\"1\" class=\"dataframe\">\n",
       "  <thead>\n",
       "    <tr style=\"text-align: right;\">\n",
       "      <th>col_0</th>\n",
       "      <th>count</th>\n",
       "    </tr>\n",
       "    <tr>\n",
       "      <th>industry</th>\n",
       "      <th></th>\n",
       "    </tr>\n",
       "  </thead>\n",
       "  <tbody>\n",
       "    <tr>\n",
       "      <th>Marketing Agency</th>\n",
       "      <td>6012</td>\n",
       "    </tr>\n",
       "    <tr>\n",
       "      <th>health care</th>\n",
       "      <td>6052</td>\n",
       "    </tr>\n",
       "    <tr>\n",
       "      <th>healthcare</th>\n",
       "      <td>5911</td>\n",
       "    </tr>\n",
       "    <tr>\n",
       "      <th>marketing agency</th>\n",
       "      <td>6052</td>\n",
       "    </tr>\n",
       "    <tr>\n",
       "      <th>mktg agency</th>\n",
       "      <td>6031</td>\n",
       "    </tr>\n",
       "    <tr>\n",
       "      <th>software</th>\n",
       "      <td>5879</td>\n",
       "    </tr>\n",
       "    <tr>\n",
       "      <th>unk</th>\n",
       "      <td>2366</td>\n",
       "    </tr>\n",
       "    <tr>\n",
       "      <th>unknown</th>\n",
       "      <td>9697</td>\n",
       "    </tr>\n",
       "  </tbody>\n",
       "</table>\n",
       "</div>"
      ],
      "text/plain": [
       "col_0             count\n",
       "industry               \n",
       "Marketing Agency   6012\n",
       "health care        6052\n",
       "healthcare         5911\n",
       "marketing agency   6052\n",
       "mktg agency        6031\n",
       "software           5879\n",
       "unk                2366\n",
       "unknown            9697"
      ]
     },
     "execution_count": 10,
     "metadata": {},
     "output_type": "execute_result"
    }
   ],
   "source": [
    "# Look at counts by industry\n",
    "pd.crosstab(index=train['industry'], columns='count') "
   ]
  },
  {
   "cell_type": "markdown",
   "metadata": {},
   "source": [
    "### We can see there is both 'unk' and 'unknown' in the industry column of this dataset. This is also the case with a the marketing and healthcare industries. We'll combine them."
   ]
  },
  {
   "cell_type": "code",
   "execution_count": 11,
   "metadata": {},
   "outputs": [],
   "source": [
    "train['industry'] = train['industry'].replace(['unk'],'unknown')\n",
    "train['industry'] = train['industry'].replace(['health care'],'healthcare')\n",
    "train['industry'] = train['industry'].replace(['mktg agency', 'Marketing Agency'],'marketing agency')"
   ]
  },
  {
   "cell_type": "code",
   "execution_count": 12,
   "metadata": {},
   "outputs": [
    {
     "data": {
      "text/html": [
       "<div>\n",
       "<style scoped>\n",
       "    .dataframe tbody tr th:only-of-type {\n",
       "        vertical-align: middle;\n",
       "    }\n",
       "\n",
       "    .dataframe tbody tr th {\n",
       "        vertical-align: top;\n",
       "    }\n",
       "\n",
       "    .dataframe thead th {\n",
       "        text-align: right;\n",
       "    }\n",
       "</style>\n",
       "<table border=\"1\" class=\"dataframe\">\n",
       "  <thead>\n",
       "    <tr style=\"text-align: right;\">\n",
       "      <th>col_0</th>\n",
       "      <th>count</th>\n",
       "    </tr>\n",
       "    <tr>\n",
       "      <th>industry</th>\n",
       "      <th></th>\n",
       "    </tr>\n",
       "  </thead>\n",
       "  <tbody>\n",
       "    <tr>\n",
       "      <th>marketing agency</th>\n",
       "      <td>18095</td>\n",
       "    </tr>\n",
       "    <tr>\n",
       "      <th>unknown</th>\n",
       "      <td>12063</td>\n",
       "    </tr>\n",
       "    <tr>\n",
       "      <th>healthcare</th>\n",
       "      <td>11963</td>\n",
       "    </tr>\n",
       "    <tr>\n",
       "      <th>software</th>\n",
       "      <td>5879</td>\n",
       "    </tr>\n",
       "  </tbody>\n",
       "</table>\n",
       "</div>"
      ],
      "text/plain": [
       "col_0             count\n",
       "industry               \n",
       "marketing agency  18095\n",
       "unknown           12063\n",
       "healthcare        11963\n",
       "software           5879"
      ]
     },
     "execution_count": 12,
     "metadata": {},
     "output_type": "execute_result"
    }
   ],
   "source": [
    "# Make sure the values got replaced correctly\n",
    "pd.crosstab(index=train['industry'], columns='count').sort_values('count', ascending=0)"
   ]
  },
  {
   "cell_type": "code",
   "execution_count": 13,
   "metadata": {},
   "outputs": [
    {
     "data": {
      "text/html": [
       "<div>\n",
       "<style scoped>\n",
       "    .dataframe tbody tr th:only-of-type {\n",
       "        vertical-align: middle;\n",
       "    }\n",
       "\n",
       "    .dataframe tbody tr th {\n",
       "        vertical-align: top;\n",
       "    }\n",
       "\n",
       "    .dataframe thead th {\n",
       "        text-align: right;\n",
       "    }\n",
       "</style>\n",
       "<table border=\"1\" class=\"dataframe\">\n",
       "  <thead>\n",
       "    <tr style=\"text-align: right;\">\n",
       "      <th>col_0</th>\n",
       "      <th>count</th>\n",
       "    </tr>\n",
       "    <tr>\n",
       "      <th>geography</th>\n",
       "      <th></th>\n",
       "    </tr>\n",
       "  </thead>\n",
       "  <tbody>\n",
       "    <tr>\n",
       "      <th>USA</th>\n",
       "      <td>8573</td>\n",
       "    </tr>\n",
       "    <tr>\n",
       "      <th>CA</th>\n",
       "      <td>5381</td>\n",
       "    </tr>\n",
       "    <tr>\n",
       "      <th>Canada</th>\n",
       "      <td>5328</td>\n",
       "    </tr>\n",
       "    <tr>\n",
       "      <th>US</th>\n",
       "      <td>4309</td>\n",
       "    </tr>\n",
       "    <tr>\n",
       "      <th>America</th>\n",
       "      <td>4305</td>\n",
       "    </tr>\n",
       "    <tr>\n",
       "      <th>United States</th>\n",
       "      <td>4270</td>\n",
       "    </tr>\n",
       "    <tr>\n",
       "      <th>UK</th>\n",
       "      <td>2114</td>\n",
       "    </tr>\n",
       "    <tr>\n",
       "      <th>Pakistan</th>\n",
       "      <td>1797</td>\n",
       "    </tr>\n",
       "    <tr>\n",
       "      <th>Greece</th>\n",
       "      <td>1782</td>\n",
       "    </tr>\n",
       "    <tr>\n",
       "      <th>India</th>\n",
       "      <td>1773</td>\n",
       "    </tr>\n",
       "    <tr>\n",
       "      <th>Spain</th>\n",
       "      <td>1748</td>\n",
       "    </tr>\n",
       "    <tr>\n",
       "      <th>France</th>\n",
       "      <td>1739</td>\n",
       "    </tr>\n",
       "    <tr>\n",
       "      <th>Esp</th>\n",
       "      <td>1735</td>\n",
       "    </tr>\n",
       "    <tr>\n",
       "      <th>GB</th>\n",
       "      <td>1118</td>\n",
       "    </tr>\n",
       "    <tr>\n",
       "      <th>United Kingdom</th>\n",
       "      <td>1029</td>\n",
       "    </tr>\n",
       "    <tr>\n",
       "      <th>England</th>\n",
       "      <td>999</td>\n",
       "    </tr>\n",
       "  </tbody>\n",
       "</table>\n",
       "</div>"
      ],
      "text/plain": [
       "col_0           count\n",
       "geography            \n",
       "USA              8573\n",
       "CA               5381\n",
       "Canada           5328\n",
       "US               4309\n",
       "America          4305\n",
       "United States    4270\n",
       "UK               2114\n",
       "Pakistan         1797\n",
       "Greece           1782\n",
       "India            1773\n",
       "Spain            1748\n",
       "France           1739\n",
       "Esp              1735\n",
       "GB               1118\n",
       "United Kingdom   1029\n",
       "England           999"
      ]
     },
     "execution_count": 13,
     "metadata": {},
     "output_type": "execute_result"
    }
   ],
   "source": [
    "# Look at counts by country\n",
    "pd.crosstab(index=train['geography'], columns='count').sort_values('count', ascending=0)"
   ]
  },
  {
   "cell_type": "markdown",
   "metadata": {},
   "source": [
    "### We can see the same issue here with a few different countries. Again, we'll combine them."
   ]
  },
  {
   "cell_type": "code",
   "execution_count": 14,
   "metadata": {},
   "outputs": [],
   "source": [
    "train['geography'] = train['geography'].replace(['US', 'America', 'USA'],'United States')\n",
    "train['geography'] = train['geography'].replace(['CA'],'Canada')\n",
    "train['geography'] = train['geography'].replace(['GB', 'UK', 'England'],'United Kingdom')\n",
    "train['geography'] = train['geography'].replace(['Esp'], 'Spain')"
   ]
  },
  {
   "cell_type": "code",
   "execution_count": 15,
   "metadata": {},
   "outputs": [
    {
     "data": {
      "text/html": [
       "<div>\n",
       "<style scoped>\n",
       "    .dataframe tbody tr th:only-of-type {\n",
       "        vertical-align: middle;\n",
       "    }\n",
       "\n",
       "    .dataframe tbody tr th {\n",
       "        vertical-align: top;\n",
       "    }\n",
       "\n",
       "    .dataframe thead th {\n",
       "        text-align: right;\n",
       "    }\n",
       "</style>\n",
       "<table border=\"1\" class=\"dataframe\">\n",
       "  <thead>\n",
       "    <tr style=\"text-align: right;\">\n",
       "      <th>col_0</th>\n",
       "      <th>count</th>\n",
       "    </tr>\n",
       "    <tr>\n",
       "      <th>geography</th>\n",
       "      <th></th>\n",
       "    </tr>\n",
       "  </thead>\n",
       "  <tbody>\n",
       "    <tr>\n",
       "      <th>United States</th>\n",
       "      <td>21457</td>\n",
       "    </tr>\n",
       "    <tr>\n",
       "      <th>Canada</th>\n",
       "      <td>10709</td>\n",
       "    </tr>\n",
       "    <tr>\n",
       "      <th>United Kingdom</th>\n",
       "      <td>5260</td>\n",
       "    </tr>\n",
       "    <tr>\n",
       "      <th>Spain</th>\n",
       "      <td>3483</td>\n",
       "    </tr>\n",
       "    <tr>\n",
       "      <th>Pakistan</th>\n",
       "      <td>1797</td>\n",
       "    </tr>\n",
       "    <tr>\n",
       "      <th>Greece</th>\n",
       "      <td>1782</td>\n",
       "    </tr>\n",
       "    <tr>\n",
       "      <th>India</th>\n",
       "      <td>1773</td>\n",
       "    </tr>\n",
       "    <tr>\n",
       "      <th>France</th>\n",
       "      <td>1739</td>\n",
       "    </tr>\n",
       "  </tbody>\n",
       "</table>\n",
       "</div>"
      ],
      "text/plain": [
       "col_0           count\n",
       "geography            \n",
       "United States   21457\n",
       "Canada          10709\n",
       "United Kingdom   5260\n",
       "Spain            3483\n",
       "Pakistan         1797\n",
       "Greece           1782\n",
       "India            1773\n",
       "France           1739"
      ]
     },
     "execution_count": 15,
     "metadata": {},
     "output_type": "execute_result"
    }
   ],
   "source": [
    "# Make sure the values got replaced properly\n",
    "pd.crosstab(index=train['geography'], columns='count').sort_values('count', ascending=0)"
   ]
  },
  {
   "cell_type": "markdown",
   "metadata": {},
   "source": [
    "### Let's visualize the counts."
   ]
  },
  {
   "cell_type": "code",
   "execution_count": 16,
   "metadata": {},
   "outputs": [
    {
     "data": {
      "image/png": "[encoded data removed]",
      "text/plain": [
       "<Figure size 432x288 with 1 Axes>"
      ]
     },
     "metadata": {
      "needs_background": "light"
     },
     "output_type": "display_data"
    }
   ],
   "source": [
    "ax = sns.countplot(x='industry', data=train).set_title('Count of Industries')\n",
    "plt.xlabel('')\n",
    "plt.ylabel('Count')\n",
    "plt.xticks(rotation=45)\n",
    "plt.show()"
   ]
  },
  {
   "cell_type": "markdown",
   "metadata": {},
   "source": [
    "### It looks like most of the customers are from the marketing agency industry."
   ]
  },
  {
   "cell_type": "code",
   "execution_count": 17,
   "metadata": {},
   "outputs": [
    {
     "data": {
      "image/png": "[encoded data removed]",
      "text/plain": [
       "<Figure size 432x288 with 1 Axes>"
      ]
     },
     "metadata": {
      "needs_background": "light"
     },
     "output_type": "display_data"
    }
   ],
   "source": [
    "ax = sns.countplot(x='geography', data=train).set_title('Count of Countries')\n",
    "plt.xlabel('')\n",
    "plt.ylabel('Count')\n",
    "plt.xticks(rotation=45)\n",
    "plt.show()"
   ]
  },
  {
   "cell_type": "markdown",
   "metadata": {},
   "source": [
    "### We can see most of the customers come from the United States and Canada."
   ]
  },
  {
   "cell_type": "code",
   "execution_count": 18,
   "metadata": {},
   "outputs": [
    {
     "data": {
      "image/png": "[encoded data removed]",
      "text/plain": [
       "<Figure size 432x216 with 1 Axes>"
      ]
     },
     "metadata": {},
     "output_type": "display_data"
    },
    {
     "data": {
      "image/png": "[encoded data removed]",
      "text/plain": [
       "<Figure size 432x216 with 1 Axes>"
      ]
     },
     "metadata": {},
     "output_type": "display_data"
    }
   ],
   "source": [
    "# Create boxplots to look for outliers\n",
    "sns.set(rc={'figure.figsize':(6,3)})\n",
    "for x in train.iloc[:,5:]:\n",
    "    sns.set(style=\"darkgrid\")\n",
    "    ax = sns.boxplot(x=x, data=train).set_title(x)\n",
    "    plt.show()"
   ]
  },
  {
   "cell_type": "code",
   "execution_count": 19,
   "metadata": {},
   "outputs": [
    {
     "data": {
      "image/png": "[encoded data removed]",
      "text/plain": [
       "<Figure size 432x216 with 1 Axes>"
      ]
     },
     "metadata": {},
     "output_type": "display_data"
    }
   ],
   "source": [
    "# Scatter plot to look at session time and amount paid\n",
    "plt.scatter(train['session_time_prior_month_minutes'],train['prior_month_paid'], alpha=0.5)\n",
    "plt.title('Session Time vs. Amount Paid')\n",
    "plt.xlabel('Session Time (min)')\n",
    "plt.ylabel('Paid Last Month (USD)')\n",
    "plt.show()"
   ]
  },
  {
   "cell_type": "markdown",
   "metadata": {},
   "source": [
    "### It looks like we'll have to do some scaling/outlier removal."
   ]
  },
  {
   "cell_type": "markdown",
   "metadata": {},
   "source": [
    "### Now, let's look at the most common browser by industry and country."
   ]
  },
  {
   "cell_type": "code",
   "execution_count": 20,
   "metadata": {},
   "outputs": [
    {
     "data": {
      "image/png": "[encoded data removed]",
      "text/plain": [
       "<Figure size 432x216 with 1 Axes>"
      ]
     },
     "metadata": {},
     "output_type": "display_data"
    }
   ],
   "source": [
    "chart = sns.countplot(x=\"industry\", hue=\"most_common_browser\", data=train)\n",
    "plt.title('Most Common Browser by Industry')\n",
    "plt.xlabel('Industry')\n",
    "plt.ylabel('Count')\n",
    "plt.show()"
   ]
  },
  {
   "cell_type": "code",
   "execution_count": 21,
   "metadata": {},
   "outputs": [
    {
     "data": {
      "image/png": "[encoded data removed]",
      "text/plain": [
       "<Figure size 432x216 with 1 Axes>"
      ]
     },
     "metadata": {},
     "output_type": "display_data"
    }
   ],
   "source": [
    "chart = sns.countplot(x=\"geography\", hue=\"most_common_browser\", data=train)\n",
    "plt.title('Most Common Browser by Country')\n",
    "plt.xlabel('Country')\n",
    "plt.xticks(rotation=45)\n",
    "plt.ylabel('Count')\n",
    "plt.show()"
   ]
  },
  {
   "cell_type": "markdown",
   "metadata": {},
   "source": [
    "### Chrome seems to be the most common browser across industries as well as across countries."
   ]
  },
  {
   "cell_type": "markdown",
   "metadata": {},
   "source": [
    "### Next, let's look at the average of the session_time_prior_month_minutes and prior_month_paid columns."
   ]
  },
  {
   "cell_type": "code",
   "execution_count": 22,
   "metadata": {},
   "outputs": [
    {
     "data": {
      "text/html": [
       "<div>\n",
       "<style scoped>\n",
       "    .dataframe tbody tr th:only-of-type {\n",
       "        vertical-align: middle;\n",
       "    }\n",
       "\n",
       "    .dataframe tbody tr th {\n",
       "        vertical-align: top;\n",
       "    }\n",
       "\n",
       "    .dataframe thead th {\n",
       "        text-align: right;\n",
       "    }\n",
       "</style>\n",
       "<table border=\"1\" class=\"dataframe\">\n",
       "  <thead>\n",
       "    <tr style=\"text-align: right;\">\n",
       "      <th></th>\n",
       "      <th>industry</th>\n",
       "      <th>prior_month_paid</th>\n",
       "      <th>session_time_prior_month_minutes</th>\n",
       "    </tr>\n",
       "  </thead>\n",
       "  <tbody>\n",
       "    <tr>\n",
       "      <th>1</th>\n",
       "      <td>marketing agency</td>\n",
       "      <td>106.562781</td>\n",
       "      <td>32.789693</td>\n",
       "    </tr>\n",
       "    <tr>\n",
       "      <th>0</th>\n",
       "      <td>healthcare</td>\n",
       "      <td>81.615152</td>\n",
       "      <td>32.050279</td>\n",
       "    </tr>\n",
       "    <tr>\n",
       "      <th>2</th>\n",
       "      <td>software</td>\n",
       "      <td>78.725228</td>\n",
       "      <td>32.399286</td>\n",
       "    </tr>\n",
       "    <tr>\n",
       "      <th>3</th>\n",
       "      <td>unknown</td>\n",
       "      <td>61.554582</td>\n",
       "      <td>32.703233</td>\n",
       "    </tr>\n",
       "  </tbody>\n",
       "</table>\n",
       "</div>"
      ],
      "text/plain": [
       "           industry  prior_month_paid  session_time_prior_month_minutes\n",
       "1  marketing agency        106.562781                         32.789693\n",
       "0        healthcare         81.615152                         32.050279\n",
       "2          software         78.725228                         32.399286\n",
       "3           unknown         61.554582                         32.703233"
      ]
     },
     "execution_count": 22,
     "metadata": {},
     "output_type": "execute_result"
    }
   ],
   "source": [
    "# By industry\n",
    "indus_avg = train.groupby('industry').mean().iloc[:,2:].reset_index().sort_values('prior_month_paid', ascending=0)\n",
    "indus_avg"
   ]
  },
  {
   "cell_type": "code",
   "execution_count": 23,
   "metadata": {},
   "outputs": [
    {
     "data": {
      "text/html": [
       "<div>\n",
       "<style scoped>\n",
       "    .dataframe tbody tr th:only-of-type {\n",
       "        vertical-align: middle;\n",
       "    }\n",
       "\n",
       "    .dataframe tbody tr th {\n",
       "        vertical-align: top;\n",
       "    }\n",
       "\n",
       "    .dataframe thead th {\n",
       "        text-align: right;\n",
       "    }\n",
       "</style>\n",
       "<table border=\"1\" class=\"dataframe\">\n",
       "  <thead>\n",
       "    <tr style=\"text-align: right;\">\n",
       "      <th></th>\n",
       "      <th>geography</th>\n",
       "      <th>prior_month_paid</th>\n",
       "      <th>session_time_prior_month_minutes</th>\n",
       "    </tr>\n",
       "  </thead>\n",
       "  <tbody>\n",
       "    <tr>\n",
       "      <th>7</th>\n",
       "      <td>United States</td>\n",
       "      <td>108.071149</td>\n",
       "      <td>32.438256</td>\n",
       "    </tr>\n",
       "    <tr>\n",
       "      <th>0</th>\n",
       "      <td>Canada</td>\n",
       "      <td>93.495397</td>\n",
       "      <td>32.184883</td>\n",
       "    </tr>\n",
       "    <tr>\n",
       "      <th>6</th>\n",
       "      <td>United Kingdom</td>\n",
       "      <td>53.245475</td>\n",
       "      <td>32.896324</td>\n",
       "    </tr>\n",
       "    <tr>\n",
       "      <th>5</th>\n",
       "      <td>Spain</td>\n",
       "      <td>48.578456</td>\n",
       "      <td>33.666140</td>\n",
       "    </tr>\n",
       "    <tr>\n",
       "      <th>1</th>\n",
       "      <td>France</td>\n",
       "      <td>48.488527</td>\n",
       "      <td>32.430123</td>\n",
       "    </tr>\n",
       "    <tr>\n",
       "      <th>4</th>\n",
       "      <td>Pakistan</td>\n",
       "      <td>48.379933</td>\n",
       "      <td>32.743063</td>\n",
       "    </tr>\n",
       "    <tr>\n",
       "      <th>2</th>\n",
       "      <td>Greece</td>\n",
       "      <td>47.929663</td>\n",
       "      <td>31.446867</td>\n",
       "    </tr>\n",
       "    <tr>\n",
       "      <th>3</th>\n",
       "      <td>India</td>\n",
       "      <td>47.325642</td>\n",
       "      <td>33.535524</td>\n",
       "    </tr>\n",
       "  </tbody>\n",
       "</table>\n",
       "</div>"
      ],
      "text/plain": [
       "        geography  prior_month_paid  session_time_prior_month_minutes\n",
       "7   United States        108.071149                         32.438256\n",
       "0          Canada         93.495397                         32.184883\n",
       "6  United Kingdom         53.245475                         32.896324\n",
       "5           Spain         48.578456                         33.666140\n",
       "1          France         48.488527                         32.430123\n",
       "4        Pakistan         48.379933                         32.743063\n",
       "2          Greece         47.929663                         31.446867\n",
       "3           India         47.325642                         33.535524"
      ]
     },
     "execution_count": 23,
     "metadata": {},
     "output_type": "execute_result"
    }
   ],
   "source": [
    "# By country\n",
    "country_avg = train.groupby('geography').mean().iloc[:,2:].reset_index().sort_values('prior_month_paid', ascending=0)\n",
    "country_avg"
   ]
  },
  {
   "cell_type": "markdown",
   "metadata": {},
   "source": [
    "### It appears customers in the marketing agency industry and customers from Spain spend the most time using Moz.com tools, while customers from the marketing agency industry and customers from the US paid Moz the most in the past month."
   ]
  },
  {
   "cell_type": "markdown",
   "metadata": {},
   "source": [
    "### Let's look at the average time per session by industry/country and USD paid in the last month by industry/country."
   ]
  },
  {
   "cell_type": "code",
   "execution_count": 24,
   "metadata": {},
   "outputs": [
    {
     "data": {
      "image/png": "[encoded data removed]",
      "text/plain": [
       "<Figure size 432x216 with 1 Axes>"
      ]
     },
     "metadata": {},
     "output_type": "display_data"
    }
   ],
   "source": [
    "chart = sns.barplot(x='industry', y=\"session_time_prior_month_minutes\", data=indus_avg)\n",
    "plt.title('Average Session Time (Minutes) by Industry')\n",
    "plt.xlabel('Industry')\n",
    "plt.ylim(20, 35)\n",
    "plt.xticks(rotation=45)\n",
    "plt.ylabel('Avg. Session Time (min)')\n",
    "plt.show()"
   ]
  },
  {
   "cell_type": "code",
   "execution_count": 25,
   "metadata": {},
   "outputs": [
    {
     "data": {
      "image/png": "[encoded data removed]",
      "text/plain": [
       "<Figure size 432x216 with 1 Axes>"
      ]
     },
     "metadata": {},
     "output_type": "display_data"
    }
   ],
   "source": [
    "chart = sns.barplot(x='geography', y=\"session_time_prior_month_minutes\", data=country_avg)\n",
    "plt.title('Average Session Time (Minutes) by Country')\n",
    "plt.xlabel('Country')\n",
    "plt.ylim(20, 35)\n",
    "plt.xticks(rotation=45)\n",
    "plt.ylabel('Avg. Session Time (min)')\n",
    "plt.show()"
   ]
  },
  {
   "cell_type": "markdown",
   "metadata": {},
   "source": [
    "### We can see that all industries/countries are pretty even when it comes to the average minutes spent logged into Moz.com tools."
   ]
  },
  {
   "cell_type": "code",
   "execution_count": 26,
   "metadata": {},
   "outputs": [
    {
     "data": {
      "image/png": "[encoded data removed]",
      "text/plain": [
       "<Figure size 432x216 with 1 Axes>"
      ]
     },
     "metadata": {},
     "output_type": "display_data"
    }
   ],
   "source": [
    "chart = sns.barplot(x='industry', y=\"prior_month_paid\", data=indus_avg)\n",
    "plt.title('Average USD Paid Last Month by Industry')\n",
    "plt.xlabel('Industry')\n",
    "plt.xticks(rotation=45)\n",
    "plt.ylabel('Avg. Paid (USD)')\n",
    "plt.show()"
   ]
  },
  {
   "cell_type": "code",
   "execution_count": 27,
   "metadata": {},
   "outputs": [
    {
     "data": {
      "image/png": "[encoded data removed]",
      "text/plain": [
       "<Figure size 432x216 with 1 Axes>"
      ]
     },
     "metadata": {},
     "output_type": "display_data"
    }
   ],
   "source": [
    "chart = sns.barplot(x='geography', y=\"prior_month_paid\", data=country_avg)\n",
    "plt.title('Average USD Paid Last Month by Country')\n",
    "plt.xlabel('Country')\n",
    "plt.xticks(rotation=45)\n",
    "plt.ylabel('Avg. Paid (USD)')\n",
    "plt.show()"
   ]
  },
  {
   "cell_type": "markdown",
   "metadata": {},
   "source": [
    "### We can see that marketing agency industry and the US & Canada paid the most last month, on average."
   ]
  },
  {
   "cell_type": "markdown",
   "metadata": {},
   "source": [
    "### In conclusion, we can see that the amount of time spent in Moz.com tools is not very strongly correlated with the amount (USD) paid to Moz in the last month, but both industry and country appear to have some affect. We also found that most customers come from the US or Canada, are from the marketing industry, and use Chrome as their primary browser."
   ]
  },
  {
   "cell_type": "markdown",
   "metadata": {},
   "source": [
    "# Question 2:"
   ]
  },
  {
   "cell_type": "code",
   "execution_count": 28,
   "metadata": {},
   "outputs": [
    {
     "data": {
      "text/html": [
       "<div>\n",
       "<style scoped>\n",
       "    .dataframe tbody tr th:only-of-type {\n",
       "        vertical-align: middle;\n",
       "    }\n",
       "\n",
       "    .dataframe tbody tr th {\n",
       "        vertical-align: top;\n",
       "    }\n",
       "\n",
       "    .dataframe thead th {\n",
       "        text-align: right;\n",
       "    }\n",
       "</style>\n",
       "<table border=\"1\" class=\"dataframe\">\n",
       "  <thead>\n",
       "    <tr style=\"text-align: right;\">\n",
       "      <th></th>\n",
       "      <th>paid_norm</th>\n",
       "      <th>min_norm</th>\n",
       "      <th>industry</th>\n",
       "      <th>geography</th>\n",
       "      <th>most_common_browser</th>\n",
       "    </tr>\n",
       "  </thead>\n",
       "  <tbody>\n",
       "    <tr>\n",
       "      <th>0</th>\n",
       "      <td>0.154283</td>\n",
       "      <td>0.021719</td>\n",
       "      <td>unknown</td>\n",
       "      <td>United Kingdom</td>\n",
       "      <td>Chrome</td>\n",
       "    </tr>\n",
       "    <tr>\n",
       "      <th>1</th>\n",
       "      <td>0.697203</td>\n",
       "      <td>0.049351</td>\n",
       "      <td>healthcare</td>\n",
       "      <td>United States</td>\n",
       "      <td>Firefox</td>\n",
       "    </tr>\n",
       "    <tr>\n",
       "      <th>2</th>\n",
       "      <td>0.539603</td>\n",
       "      <td>0.033246</td>\n",
       "      <td>healthcare</td>\n",
       "      <td>Canada</td>\n",
       "      <td>Chrome</td>\n",
       "    </tr>\n",
       "    <tr>\n",
       "      <th>3</th>\n",
       "      <td>0.203937</td>\n",
       "      <td>0.009237</td>\n",
       "      <td>healthcare</td>\n",
       "      <td>Greece</td>\n",
       "      <td>Chrome</td>\n",
       "    </tr>\n",
       "    <tr>\n",
       "      <th>4</th>\n",
       "      <td>0.780566</td>\n",
       "      <td>0.029384</td>\n",
       "      <td>marketing agency</td>\n",
       "      <td>United States</td>\n",
       "      <td>Firefox</td>\n",
       "    </tr>\n",
       "  </tbody>\n",
       "</table>\n",
       "</div>"
      ],
      "text/plain": [
       "   paid_norm  min_norm          industry       geography most_common_browser\n",
       "0   0.154283  0.021719           unknown  United Kingdom              Chrome\n",
       "1   0.697203  0.049351        healthcare   United States             Firefox\n",
       "2   0.539603  0.033246        healthcare          Canada              Chrome\n",
       "3   0.203937  0.009237        healthcare          Greece              Chrome\n",
       "4   0.780566  0.029384  marketing agency   United States             Firefox"
      ]
     },
     "execution_count": 28,
     "metadata": {},
     "output_type": "execute_result"
    }
   ],
   "source": [
    "# Scale data and remove outliers\n",
    "\n",
    "scaler = MinMaxScaler() \n",
    "data_scaled = pd.DataFrame(scaler.fit_transform(train.iloc[:,5:]), columns = ['paid_norm', 'min_norm'])\n",
    "z_scores = stats.zscore(data_scaled)\n",
    "z_scores_abs = np.abs(z_scores)\n",
    "filtered_entries = (z_scores_abs < 3).all(axis=1)\n",
    "scaled_filtered = data_scaled[filtered_entries]\n",
    "\n",
    "scaled_filtered = scaled_filtered.join(train['industry'])\n",
    "scaled_filtered = scaled_filtered.join(train['geography'])\n",
    "scaled_filtered = scaled_filtered.join(train['most_common_browser'])\n",
    "scaled_filtered.head()"
   ]
  },
  {
   "cell_type": "code",
   "execution_count": 29,
   "metadata": {},
   "outputs": [
    {
     "data": {
      "text/html": [
       "<div>\n",
       "<style scoped>\n",
       "    .dataframe tbody tr th:only-of-type {\n",
       "        vertical-align: middle;\n",
       "    }\n",
       "\n",
       "    .dataframe tbody tr th {\n",
       "        vertical-align: top;\n",
       "    }\n",
       "\n",
       "    .dataframe thead th {\n",
       "        text-align: right;\n",
       "    }\n",
       "</style>\n",
       "<table border=\"1\" class=\"dataframe\">\n",
       "  <thead>\n",
       "    <tr style=\"text-align: right;\">\n",
       "      <th></th>\n",
       "      <th>paid_norm</th>\n",
       "      <th>min_norm</th>\n",
       "    </tr>\n",
       "  </thead>\n",
       "  <tbody>\n",
       "    <tr>\n",
       "      <th>count</th>\n",
       "      <td>47102.000000</td>\n",
       "      <td>47102.000000</td>\n",
       "    </tr>\n",
       "    <tr>\n",
       "      <th>mean</th>\n",
       "      <td>0.513769</td>\n",
       "      <td>0.033956</td>\n",
       "    </tr>\n",
       "    <tr>\n",
       "      <th>std</th>\n",
       "      <td>0.196682</td>\n",
       "      <td>0.033573</td>\n",
       "    </tr>\n",
       "    <tr>\n",
       "      <th>min</th>\n",
       "      <td>0.000000</td>\n",
       "      <td>0.000000</td>\n",
       "    </tr>\n",
       "    <tr>\n",
       "      <th>25%</th>\n",
       "      <td>0.382784</td>\n",
       "      <td>0.012064</td>\n",
       "    </tr>\n",
       "    <tr>\n",
       "      <th>50%</th>\n",
       "      <td>0.527237</td>\n",
       "      <td>0.021799</td>\n",
       "    </tr>\n",
       "    <tr>\n",
       "      <th>75%</th>\n",
       "      <td>0.667189</td>\n",
       "      <td>0.044573</td>\n",
       "    </tr>\n",
       "    <tr>\n",
       "      <th>max</th>\n",
       "      <td>0.922929</td>\n",
       "      <td>0.192865</td>\n",
       "    </tr>\n",
       "  </tbody>\n",
       "</table>\n",
       "</div>"
      ],
      "text/plain": [
       "          paid_norm      min_norm\n",
       "count  47102.000000  47102.000000\n",
       "mean       0.513769      0.033956\n",
       "std        0.196682      0.033573\n",
       "min        0.000000      0.000000\n",
       "25%        0.382784      0.012064\n",
       "50%        0.527237      0.021799\n",
       "75%        0.667189      0.044573\n",
       "max        0.922929      0.192865"
      ]
     },
     "execution_count": 29,
     "metadata": {},
     "output_type": "execute_result"
    }
   ],
   "source": [
    "scaled_filtered.describe()"
   ]
  },
  {
   "cell_type": "code",
   "execution_count": 30,
   "metadata": {},
   "outputs": [
    {
     "data": {
      "text/html": [
       "<div>\n",
       "<style scoped>\n",
       "    .dataframe tbody tr th:only-of-type {\n",
       "        vertical-align: middle;\n",
       "    }\n",
       "\n",
       "    .dataframe tbody tr th {\n",
       "        vertical-align: top;\n",
       "    }\n",
       "\n",
       "    .dataframe thead th {\n",
       "        text-align: right;\n",
       "    }\n",
       "</style>\n",
       "<table border=\"1\" class=\"dataframe\">\n",
       "  <thead>\n",
       "    <tr style=\"text-align: right;\">\n",
       "      <th></th>\n",
       "      <th>paid_norm</th>\n",
       "      <th>min_norm</th>\n",
       "      <th>industry_healthcare</th>\n",
       "      <th>industry_marketing agency</th>\n",
       "      <th>industry_software</th>\n",
       "      <th>industry_unknown</th>\n",
       "      <th>geography_Canada</th>\n",
       "      <th>geography_France</th>\n",
       "      <th>geography_Greece</th>\n",
       "      <th>geography_India</th>\n",
       "      <th>geography_Pakistan</th>\n",
       "      <th>geography_Spain</th>\n",
       "      <th>geography_United Kingdom</th>\n",
       "      <th>geography_United States</th>\n",
       "      <th>most_common_browser_Chrome</th>\n",
       "      <th>most_common_browser_Firefox</th>\n",
       "      <th>most_common_browser_IE</th>\n",
       "      <th>most_common_browser_Safari</th>\n",
       "    </tr>\n",
       "  </thead>\n",
       "  <tbody>\n",
       "    <tr>\n",
       "      <th>0</th>\n",
       "      <td>0.154283</td>\n",
       "      <td>0.021719</td>\n",
       "      <td>0</td>\n",
       "      <td>0</td>\n",
       "      <td>0</td>\n",
       "      <td>1</td>\n",
       "      <td>0</td>\n",
       "      <td>0</td>\n",
       "      <td>0</td>\n",
       "      <td>0</td>\n",
       "      <td>0</td>\n",
       "      <td>0</td>\n",
       "      <td>1</td>\n",
       "      <td>0</td>\n",
       "      <td>1</td>\n",
       "      <td>0</td>\n",
       "      <td>0</td>\n",
       "      <td>0</td>\n",
       "    </tr>\n",
       "    <tr>\n",
       "      <th>1</th>\n",
       "      <td>0.697203</td>\n",
       "      <td>0.049351</td>\n",
       "      <td>1</td>\n",
       "      <td>0</td>\n",
       "      <td>0</td>\n",
       "      <td>0</td>\n",
       "      <td>0</td>\n",
       "      <td>0</td>\n",
       "      <td>0</td>\n",
       "      <td>0</td>\n",
       "      <td>0</td>\n",
       "      <td>0</td>\n",
       "      <td>0</td>\n",
       "      <td>1</td>\n",
       "      <td>0</td>\n",
       "      <td>1</td>\n",
       "      <td>0</td>\n",
       "      <td>0</td>\n",
       "    </tr>\n",
       "    <tr>\n",
       "      <th>2</th>\n",
       "      <td>0.539603</td>\n",
       "      <td>0.033246</td>\n",
       "      <td>1</td>\n",
       "      <td>0</td>\n",
       "      <td>0</td>\n",
       "      <td>0</td>\n",
       "      <td>1</td>\n",
       "      <td>0</td>\n",
       "      <td>0</td>\n",
       "      <td>0</td>\n",
       "      <td>0</td>\n",
       "      <td>0</td>\n",
       "      <td>0</td>\n",
       "      <td>0</td>\n",
       "      <td>1</td>\n",
       "      <td>0</td>\n",
       "      <td>0</td>\n",
       "      <td>0</td>\n",
       "    </tr>\n",
       "    <tr>\n",
       "      <th>3</th>\n",
       "      <td>0.203937</td>\n",
       "      <td>0.009237</td>\n",
       "      <td>1</td>\n",
       "      <td>0</td>\n",
       "      <td>0</td>\n",
       "      <td>0</td>\n",
       "      <td>0</td>\n",
       "      <td>0</td>\n",
       "      <td>1</td>\n",
       "      <td>0</td>\n",
       "      <td>0</td>\n",
       "      <td>0</td>\n",
       "      <td>0</td>\n",
       "      <td>0</td>\n",
       "      <td>1</td>\n",
       "      <td>0</td>\n",
       "      <td>0</td>\n",
       "      <td>0</td>\n",
       "    </tr>\n",
       "    <tr>\n",
       "      <th>4</th>\n",
       "      <td>0.780566</td>\n",
       "      <td>0.029384</td>\n",
       "      <td>0</td>\n",
       "      <td>1</td>\n",
       "      <td>0</td>\n",
       "      <td>0</td>\n",
       "      <td>0</td>\n",
       "      <td>0</td>\n",
       "      <td>0</td>\n",
       "      <td>0</td>\n",
       "      <td>0</td>\n",
       "      <td>0</td>\n",
       "      <td>0</td>\n",
       "      <td>1</td>\n",
       "      <td>0</td>\n",
       "      <td>1</td>\n",
       "      <td>0</td>\n",
       "      <td>0</td>\n",
       "    </tr>\n",
       "  </tbody>\n",
       "</table>\n",
       "</div>"
      ],
      "text/plain": [
       "   paid_norm  min_norm  industry_healthcare  industry_marketing agency  \\\n",
       "0   0.154283  0.021719                    0                          0   \n",
       "1   0.697203  0.049351                    1                          0   \n",
       "2   0.539603  0.033246                    1                          0   \n",
       "3   0.203937  0.009237                    1                          0   \n",
       "4   0.780566  0.029384                    0                          1   \n",
       "\n",
       "   industry_software  industry_unknown  geography_Canada  geography_France  \\\n",
       "0                  0                 1                 0                 0   \n",
       "1                  0                 0                 0                 0   \n",
       "2                  0                 0                 1                 0   \n",
       "3                  0                 0                 0                 0   \n",
       "4                  0                 0                 0                 0   \n",
       "\n",
       "   geography_Greece  geography_India  geography_Pakistan  geography_Spain  \\\n",
       "0                 0                0                   0                0   \n",
       "1                 0                0                   0                0   \n",
       "2                 0                0                   0                0   \n",
       "3                 1                0                   0                0   \n",
       "4                 0                0                   0                0   \n",
       "\n",
       "   geography_United Kingdom  geography_United States  \\\n",
       "0                         1                        0   \n",
       "1                         0                        1   \n",
       "2                         0                        0   \n",
       "3                         0                        0   \n",
       "4                         0                        1   \n",
       "\n",
       "   most_common_browser_Chrome  most_common_browser_Firefox  \\\n",
       "0                           1                            0   \n",
       "1                           0                            1   \n",
       "2                           1                            0   \n",
       "3                           1                            0   \n",
       "4                           0                            1   \n",
       "\n",
       "   most_common_browser_IE  most_common_browser_Safari  \n",
       "0                       0                           0  \n",
       "1                       0                           0  \n",
       "2                       0                           0  \n",
       "3                       0                           0  \n",
       "4                       0                           0  "
      ]
     },
     "execution_count": 30,
     "metadata": {},
     "output_type": "execute_result"
    }
   ],
   "source": [
    "# Create dummy variables from categorical features\n",
    "train_dummy = pd.get_dummies(scaled_filtered)\n",
    "train_dummy.head()"
   ]
  },
  {
   "cell_type": "code",
   "execution_count": 31,
   "metadata": {},
   "outputs": [
    {
     "data": {
      "text/plain": [
       "paid_norm                      1.000000\n",
       "geography_United States        0.618614\n",
       "industry_marketing agency      0.497952\n",
       "min_norm                       0.226649\n",
       "geography_Canada               0.129717\n",
       "most_common_browser_Chrome     0.008147\n",
       "most_common_browser_Safari     0.000890\n",
       "most_common_browser_IE        -0.003921\n",
       "most_common_browser_Firefox   -0.007943\n",
       "industry_healthcare           -0.070367\n",
       "industry_software             -0.078016\n",
       "geography_France              -0.220983\n",
       "geography_Pakistan            -0.225253\n",
       "geography_Greece              -0.227183\n",
       "geography_India               -0.229835\n",
       "geography_Spain               -0.318027\n",
       "geography_United Kingdom      -0.348912\n",
       "industry_unknown              -0.426862\n",
       "Name: paid_norm, dtype: float64"
      ]
     },
     "execution_count": 31,
     "metadata": {},
     "output_type": "execute_result"
    }
   ],
   "source": [
    "# List correlation of features against target variable\n",
    "corr_list = train_dummy[train_dummy.columns[0:]].corr()['paid_norm'][:]\n",
    "corr_list.sort_values(ascending = False)"
   ]
  },
  {
   "cell_type": "code",
   "execution_count": 32,
   "metadata": {},
   "outputs": [
    {
     "data": {
      "text/plain": [
       "<matplotlib.axes._subplots.AxesSubplot at 0x1a19d2a9d0>"
      ]
     },
     "execution_count": 32,
     "metadata": {},
     "output_type": "execute_result"
    },
    {
     "data": {
      "image/png": "[encoded data removed]",
      "text/plain": [
       "<Figure size 1440x720 with 2 Axes>"
      ]
     },
     "metadata": {},
     "output_type": "display_data"
    }
   ],
   "source": [
    "# visulatize correlations\n",
    "plt.figure(figsize=(20,10))\n",
    "sns.heatmap(train_dummy.corr())"
   ]
  },
  {
   "cell_type": "code",
   "execution_count": 33,
   "metadata": {},
   "outputs": [
    {
     "name": "stdout",
     "output_type": "stream",
     "text": [
      "47102\n",
      "47102\n"
     ]
    }
   ],
   "source": [
    "# seperate target and features\n",
    "X = train_dummy.loc[:, train_dummy.columns != 'paid_norm']\n",
    "y = train_dummy['paid_norm'].values.reshape(-1,1)\n",
    "\n",
    "print(len(X))\n",
    "print(len(y))"
   ]
  },
  {
   "cell_type": "code",
   "execution_count": 34,
   "metadata": {},
   "outputs": [],
   "source": [
    "X_train, X_test, y_train, y_test = train_test_split(X, y, test_size=0.2, random_state=0)"
   ]
  },
  {
   "cell_type": "code",
   "execution_count": 35,
   "metadata": {},
   "outputs": [
    {
     "data": {
      "text/plain": [
       "LinearRegression(copy_X=True, fit_intercept=True, n_jobs=None, normalize=False)"
      ]
     },
     "execution_count": 35,
     "metadata": {},
     "output_type": "execute_result"
    }
   ],
   "source": [
    "regressor = LinearRegression()  \n",
    "regressor.fit(X_train, y_train)"
   ]
  },
  {
   "cell_type": "code",
   "execution_count": 36,
   "metadata": {},
   "outputs": [
    {
     "name": "stdout",
     "output_type": "stream",
     "text": [
      "Intercept:  [-3.62807218e+11]\n",
      "Coefficients:  [[ 1.35735564e+00 -3.89043210e+11 -3.89043210e+11 -3.89043210e+11\n",
      "  -3.89043210e+11  2.78111051e+11  2.78111051e+11  2.78111051e+11\n",
      "   2.78111051e+11  2.78111051e+11  2.78111051e+11  2.78111051e+11\n",
      "   2.78111051e+11  4.73739377e+11  4.73739377e+11  4.73739377e+11\n",
      "   4.73739377e+11]]\n"
     ]
    }
   ],
   "source": [
    "print('Intercept: ', regressor.intercept_)\n",
    "print('Coefficients: ', regressor.coef_)"
   ]
  },
  {
   "cell_type": "code",
   "execution_count": 37,
   "metadata": {},
   "outputs": [],
   "source": [
    "pred = regressor.predict(X_test)"
   ]
  },
  {
   "cell_type": "code",
   "execution_count": 38,
   "metadata": {},
   "outputs": [],
   "source": [
    "mse = mean_squared_error(y_test, pred)\n",
    "rmse = np.sqrt(mse)"
   ]
  },
  {
   "cell_type": "code",
   "execution_count": 39,
   "metadata": {},
   "outputs": [
    {
     "name": "stdout",
     "output_type": "stream",
     "text": [
      "RMSE:  0.029735942388870992\n"
     ]
    }
   ],
   "source": [
    "print('RMSE: ', rmse)"
   ]
  },
  {
   "cell_type": "code",
   "execution_count": 40,
   "metadata": {},
   "outputs": [],
   "source": [
    "X2 = sm.add_constant(X)"
   ]
  },
  {
   "cell_type": "code",
   "execution_count": 41,
   "metadata": {},
   "outputs": [
    {
     "name": "stdout",
     "output_type": "stream",
     "text": [
      "                            OLS Regression Results                            \n",
      "==============================================================================\n",
      "Dep. Variable:                      y   R-squared:                       0.978\n",
      "Model:                            OLS   Adj. R-squared:                  0.978\n",
      "Method:                 Least Squares   F-statistic:                 1.482e+05\n",
      "Date:                Fri, 07 Aug 2020   Prob (F-statistic):               0.00\n",
      "Time:                        13:50:36   Log-Likelihood:                 99444.\n",
      "No. Observations:               47102   AIC:                        -1.989e+05\n",
      "Df Residuals:                   47087   BIC:                        -1.987e+05\n",
      "Df Model:                          14                                         \n",
      "Covariance Type:            nonrobust                                         \n",
      "===============================================================================================\n",
      "                                  coef    std err          t      P>|t|      [0.025      0.975]\n",
      "-----------------------------------------------------------------------------------------------\n",
      "const                           0.1869      0.000   1183.416      0.000       0.187       0.187\n",
      "min_norm                        1.3548      0.004    336.806      0.000       1.347       1.363\n",
      "industry_healthcare             0.0438      0.000    181.141      0.000       0.043       0.044\n",
      "industry_marketing agency       0.1946      0.000    924.130      0.000       0.194       0.195\n",
      "industry_software               0.0257      0.000     80.411      0.000       0.025       0.026\n",
      "industry_unknown               -0.0772      0.000   -319.969      0.000      -0.078      -0.077\n",
      "geography_Canada                0.2119      0.000    682.312      0.000       0.211       0.213\n",
      "geography_France               -0.0587      0.001    -90.456      0.000      -0.060      -0.057\n",
      "geography_Greece               -0.0600      0.001    -93.674      0.000      -0.061      -0.059\n",
      "geography_India                -0.0587      0.001    -91.216      0.000      -0.060      -0.057\n",
      "geography_Pakistan             -0.0605      0.001    -94.547      0.000      -0.062      -0.059\n",
      "geography_Spain                -0.0599      0.000   -125.613      0.000      -0.061      -0.059\n",
      "geography_United Kingdom       -0.0296      0.000    -73.614      0.000      -0.030      -0.029\n",
      "geography_United States         0.3024      0.000   1186.111      0.000       0.302       0.303\n",
      "most_common_browser_Chrome      0.0467      0.000    238.116      0.000       0.046       0.047\n",
      "most_common_browser_Firefox     0.0467      0.000    163.852      0.000       0.046       0.047\n",
      "most_common_browser_IE          0.0469      0.000    165.035      0.000       0.046       0.047\n",
      "most_common_browser_Safari      0.0466      0.000    163.675      0.000       0.046       0.047\n",
      "==============================================================================\n",
      "Omnibus:                     3572.977   Durbin-Watson:                   1.987\n",
      "Prob(Omnibus):                  0.000   Jarque-Bera (JB):             4466.556\n",
      "Skew:                          -0.715   Prob(JB):                         0.00\n",
      "Kurtosis:                       3.479   Cond. No.                     2.02e+16\n",
      "==============================================================================\n",
      "\n",
      "Warnings:\n",
      "[1] Standard Errors assume that the covariance matrix of the errors is correctly specified.\n",
      "[2] The smallest eigenvalue is 2.22e-28. This might indicate that there are\n",
      "strong multicollinearity problems or that the design matrix is singular.\n"
     ]
    }
   ],
   "source": [
    "est = sm.OLS(y, X2)\n",
    "est2 = est.fit()\n",
    "print(est2.summary())"
   ]
  },
  {
   "cell_type": "markdown",
   "metadata": {},
   "source": [
    "# Question 3:"
   ]
  },
  {
   "cell_type": "markdown",
   "metadata": {},
   "source": [
    "### This looks to be a pretty good model, when looking at the RMSE and R^2 score. All of the p-values are very low, indicating we should keep all features in the model."
   ]
  },
  {
   "cell_type": "markdown",
   "metadata": {},
   "source": [
    "# Question 4:"
   ]
  },
  {
   "cell_type": "markdown",
   "metadata": {},
   "source": [
    "### Load test set and complete same clean up steps as we did in training data."
   ]
  },
  {
   "cell_type": "code",
   "execution_count": 42,
   "metadata": {},
   "outputs": [],
   "source": [
    "test = pd.read_csv('/Users/rachaelmccown/Desktop/moz_customer_data_test.csv', delimiter='|')"
   ]
  },
  {
   "cell_type": "code",
   "execution_count": 43,
   "metadata": {},
   "outputs": [
    {
     "data": {
      "text/html": [
       "<div>\n",
       "<style scoped>\n",
       "    .dataframe tbody tr th:only-of-type {\n",
       "        vertical-align: middle;\n",
       "    }\n",
       "\n",
       "    .dataframe tbody tr th {\n",
       "        vertical-align: top;\n",
       "    }\n",
       "\n",
       "    .dataframe thead th {\n",
       "        text-align: right;\n",
       "    }\n",
       "</style>\n",
       "<table border=\"1\" class=\"dataframe\">\n",
       "  <thead>\n",
       "    <tr style=\"text-align: right;\">\n",
       "      <th></th>\n",
       "      <th>id</th>\n",
       "      <th>industry</th>\n",
       "      <th>geography</th>\n",
       "      <th>most_common_browser</th>\n",
       "      <th>session_time_prior_month_seconds</th>\n",
       "      <th>prior_month_paid</th>\n",
       "    </tr>\n",
       "  </thead>\n",
       "  <tbody>\n",
       "    <tr>\n",
       "      <th>0</th>\n",
       "      <td>8721560330</td>\n",
       "      <td>health care</td>\n",
       "      <td>America</td>\n",
       "      <td>Safari</td>\n",
       "      <td>405</td>\n",
       "      <td>94.086123</td>\n",
       "    </tr>\n",
       "    <tr>\n",
       "      <th>1</th>\n",
       "      <td>5265684450</td>\n",
       "      <td>unk</td>\n",
       "      <td>England</td>\n",
       "      <td>IE</td>\n",
       "      <td>4460</td>\n",
       "      <td>44.434942</td>\n",
       "    </tr>\n",
       "    <tr>\n",
       "      <th>2</th>\n",
       "      <td>7023768415</td>\n",
       "      <td>Marketing Agency</td>\n",
       "      <td>Esp</td>\n",
       "      <td>Firefox</td>\n",
       "      <td>289</td>\n",
       "      <td>53.311472</td>\n",
       "    </tr>\n",
       "    <tr>\n",
       "      <th>3</th>\n",
       "      <td>7733403428</td>\n",
       "      <td>NaN</td>\n",
       "      <td>America</td>\n",
       "      <td>Firefox</td>\n",
       "      <td>4242</td>\n",
       "      <td>98.500425</td>\n",
       "    </tr>\n",
       "    <tr>\n",
       "      <th>4</th>\n",
       "      <td>9147925075</td>\n",
       "      <td>NaN</td>\n",
       "      <td>USA</td>\n",
       "      <td>Safari</td>\n",
       "      <td>431</td>\n",
       "      <td>76.246123</td>\n",
       "    </tr>\n",
       "  </tbody>\n",
       "</table>\n",
       "</div>"
      ],
      "text/plain": [
       "           id          industry geography most_common_browser  \\\n",
       "0  8721560330       health care   America              Safari   \n",
       "1  5265684450               unk   England                  IE   \n",
       "2  7023768415  Marketing Agency       Esp             Firefox   \n",
       "3  7733403428               NaN   America             Firefox   \n",
       "4  9147925075               NaN       USA              Safari   \n",
       "\n",
       "   session_time_prior_month_seconds  prior_month_paid  \n",
       "0                               405         94.086123  \n",
       "1                              4460         44.434942  \n",
       "2                               289         53.311472  \n",
       "3                              4242         98.500425  \n",
       "4                               431         76.246123  "
      ]
     },
     "execution_count": 43,
     "metadata": {},
     "output_type": "execute_result"
    }
   ],
   "source": [
    "test.head()"
   ]
  },
  {
   "cell_type": "code",
   "execution_count": 44,
   "metadata": {},
   "outputs": [
    {
     "data": {
      "text/plain": [
       "id                                     0\n",
       "industry                            1713\n",
       "geography                              0\n",
       "most_common_browser                    0\n",
       "session_time_prior_month_seconds       0\n",
       "prior_month_paid                       0\n",
       "dtype: int64"
      ]
     },
     "execution_count": 44,
     "metadata": {},
     "output_type": "execute_result"
    }
   ],
   "source": [
    "test.isnull().sum(axis = 0)"
   ]
  },
  {
   "cell_type": "code",
   "execution_count": 45,
   "metadata": {},
   "outputs": [
    {
     "data": {
      "text/html": [
       "<div>\n",
       "<style scoped>\n",
       "    .dataframe tbody tr th:only-of-type {\n",
       "        vertical-align: middle;\n",
       "    }\n",
       "\n",
       "    .dataframe tbody tr th {\n",
       "        vertical-align: top;\n",
       "    }\n",
       "\n",
       "    .dataframe thead th {\n",
       "        text-align: right;\n",
       "    }\n",
       "</style>\n",
       "<table border=\"1\" class=\"dataframe\">\n",
       "  <thead>\n",
       "    <tr style=\"text-align: right;\">\n",
       "      <th></th>\n",
       "      <th>id</th>\n",
       "      <th>industry</th>\n",
       "      <th>geography</th>\n",
       "      <th>most_common_browser</th>\n",
       "      <th>session_time_prior_month_seconds</th>\n",
       "      <th>prior_month_paid</th>\n",
       "      <th>session_time_prior_month_minutes</th>\n",
       "    </tr>\n",
       "  </thead>\n",
       "  <tbody>\n",
       "    <tr>\n",
       "      <th>0</th>\n",
       "      <td>8721560330</td>\n",
       "      <td>health care</td>\n",
       "      <td>America</td>\n",
       "      <td>Safari</td>\n",
       "      <td>405</td>\n",
       "      <td>94.086123</td>\n",
       "      <td>6.750000</td>\n",
       "    </tr>\n",
       "    <tr>\n",
       "      <th>1</th>\n",
       "      <td>5265684450</td>\n",
       "      <td>unk</td>\n",
       "      <td>England</td>\n",
       "      <td>IE</td>\n",
       "      <td>4460</td>\n",
       "      <td>44.434942</td>\n",
       "      <td>74.333333</td>\n",
       "    </tr>\n",
       "    <tr>\n",
       "      <th>2</th>\n",
       "      <td>7023768415</td>\n",
       "      <td>Marketing Agency</td>\n",
       "      <td>Esp</td>\n",
       "      <td>Firefox</td>\n",
       "      <td>289</td>\n",
       "      <td>53.311472</td>\n",
       "      <td>4.816667</td>\n",
       "    </tr>\n",
       "    <tr>\n",
       "      <th>3</th>\n",
       "      <td>7733403428</td>\n",
       "      <td>NaN</td>\n",
       "      <td>America</td>\n",
       "      <td>Firefox</td>\n",
       "      <td>4242</td>\n",
       "      <td>98.500425</td>\n",
       "      <td>70.700000</td>\n",
       "    </tr>\n",
       "    <tr>\n",
       "      <th>4</th>\n",
       "      <td>9147925075</td>\n",
       "      <td>NaN</td>\n",
       "      <td>USA</td>\n",
       "      <td>Safari</td>\n",
       "      <td>431</td>\n",
       "      <td>76.246123</td>\n",
       "      <td>7.183333</td>\n",
       "    </tr>\n",
       "  </tbody>\n",
       "</table>\n",
       "</div>"
      ],
      "text/plain": [
       "           id          industry geography most_common_browser  \\\n",
       "0  8721560330       health care   America              Safari   \n",
       "1  5265684450               unk   England                  IE   \n",
       "2  7023768415  Marketing Agency       Esp             Firefox   \n",
       "3  7733403428               NaN   America             Firefox   \n",
       "4  9147925075               NaN       USA              Safari   \n",
       "\n",
       "   session_time_prior_month_seconds  prior_month_paid  \\\n",
       "0                               405         94.086123   \n",
       "1                              4460         44.434942   \n",
       "2                               289         53.311472   \n",
       "3                              4242         98.500425   \n",
       "4                               431         76.246123   \n",
       "\n",
       "   session_time_prior_month_minutes  \n",
       "0                          6.750000  \n",
       "1                         74.333333  \n",
       "2                          4.816667  \n",
       "3                         70.700000  \n",
       "4                          7.183333  "
      ]
     },
     "execution_count": 45,
     "metadata": {},
     "output_type": "execute_result"
    }
   ],
   "source": [
    "test['session_time_prior_month_minutes'] = test['session_time_prior_month_seconds'] / 60\n",
    "test.head()"
   ]
  },
  {
   "cell_type": "code",
   "execution_count": 46,
   "metadata": {},
   "outputs": [
    {
     "data": {
      "text/html": [
       "<div>\n",
       "<style scoped>\n",
       "    .dataframe tbody tr th:only-of-type {\n",
       "        vertical-align: middle;\n",
       "    }\n",
       "\n",
       "    .dataframe tbody tr th {\n",
       "        vertical-align: top;\n",
       "    }\n",
       "\n",
       "    .dataframe thead th {\n",
       "        text-align: right;\n",
       "    }\n",
       "</style>\n",
       "<table border=\"1\" class=\"dataframe\">\n",
       "  <thead>\n",
       "    <tr style=\"text-align: right;\">\n",
       "      <th></th>\n",
       "      <th>id</th>\n",
       "      <th>industry</th>\n",
       "      <th>geography</th>\n",
       "      <th>most_common_browser</th>\n",
       "      <th>session_time_prior_month_seconds</th>\n",
       "      <th>prior_month_paid</th>\n",
       "      <th>session_time_prior_month_minutes</th>\n",
       "    </tr>\n",
       "  </thead>\n",
       "  <tbody>\n",
       "    <tr>\n",
       "      <th>0</th>\n",
       "      <td>8721560330</td>\n",
       "      <td>health care</td>\n",
       "      <td>America</td>\n",
       "      <td>Safari</td>\n",
       "      <td>405</td>\n",
       "      <td>94.086123</td>\n",
       "      <td>6.750000</td>\n",
       "    </tr>\n",
       "    <tr>\n",
       "      <th>1</th>\n",
       "      <td>5265684450</td>\n",
       "      <td>unk</td>\n",
       "      <td>England</td>\n",
       "      <td>IE</td>\n",
       "      <td>4460</td>\n",
       "      <td>44.434942</td>\n",
       "      <td>74.333333</td>\n",
       "    </tr>\n",
       "    <tr>\n",
       "      <th>2</th>\n",
       "      <td>7023768415</td>\n",
       "      <td>Marketing Agency</td>\n",
       "      <td>Esp</td>\n",
       "      <td>Firefox</td>\n",
       "      <td>289</td>\n",
       "      <td>53.311472</td>\n",
       "      <td>4.816667</td>\n",
       "    </tr>\n",
       "    <tr>\n",
       "      <th>3</th>\n",
       "      <td>7733403428</td>\n",
       "      <td>unknown</td>\n",
       "      <td>America</td>\n",
       "      <td>Firefox</td>\n",
       "      <td>4242</td>\n",
       "      <td>98.500425</td>\n",
       "      <td>70.700000</td>\n",
       "    </tr>\n",
       "    <tr>\n",
       "      <th>4</th>\n",
       "      <td>9147925075</td>\n",
       "      <td>unknown</td>\n",
       "      <td>USA</td>\n",
       "      <td>Safari</td>\n",
       "      <td>431</td>\n",
       "      <td>76.246123</td>\n",
       "      <td>7.183333</td>\n",
       "    </tr>\n",
       "  </tbody>\n",
       "</table>\n",
       "</div>"
      ],
      "text/plain": [
       "           id          industry geography most_common_browser  \\\n",
       "0  8721560330       health care   America              Safari   \n",
       "1  5265684450               unk   England                  IE   \n",
       "2  7023768415  Marketing Agency       Esp             Firefox   \n",
       "3  7733403428           unknown   America             Firefox   \n",
       "4  9147925075           unknown       USA              Safari   \n",
       "\n",
       "   session_time_prior_month_seconds  prior_month_paid  \\\n",
       "0                               405         94.086123   \n",
       "1                              4460         44.434942   \n",
       "2                               289         53.311472   \n",
       "3                              4242         98.500425   \n",
       "4                               431         76.246123   \n",
       "\n",
       "   session_time_prior_month_minutes  \n",
       "0                          6.750000  \n",
       "1                         74.333333  \n",
       "2                          4.816667  \n",
       "3                         70.700000  \n",
       "4                          7.183333  "
      ]
     },
     "execution_count": 46,
     "metadata": {},
     "output_type": "execute_result"
    }
   ],
   "source": [
    "test['industry'] = test['industry'].fillna('unknown')\n",
    "test.head()"
   ]
  },
  {
   "cell_type": "code",
   "execution_count": 47,
   "metadata": {},
   "outputs": [
    {
     "data": {
      "text/plain": [
       "id                                  0\n",
       "industry                            0\n",
       "geography                           0\n",
       "most_common_browser                 0\n",
       "session_time_prior_month_seconds    0\n",
       "prior_month_paid                    0\n",
       "session_time_prior_month_minutes    0\n",
       "dtype: int64"
      ]
     },
     "execution_count": 47,
     "metadata": {},
     "output_type": "execute_result"
    }
   ],
   "source": [
    "test.isnull().sum(axis = 0)"
   ]
  },
  {
   "cell_type": "code",
   "execution_count": 48,
   "metadata": {},
   "outputs": [
    {
     "data": {
      "text/html": [
       "<div>\n",
       "<style scoped>\n",
       "    .dataframe tbody tr th:only-of-type {\n",
       "        vertical-align: middle;\n",
       "    }\n",
       "\n",
       "    .dataframe tbody tr th {\n",
       "        vertical-align: top;\n",
       "    }\n",
       "\n",
       "    .dataframe thead th {\n",
       "        text-align: right;\n",
       "    }\n",
       "</style>\n",
       "<table border=\"1\" class=\"dataframe\">\n",
       "  <thead>\n",
       "    <tr style=\"text-align: right;\">\n",
       "      <th>col_0</th>\n",
       "      <th>count</th>\n",
       "    </tr>\n",
       "    <tr>\n",
       "      <th>industry</th>\n",
       "      <th></th>\n",
       "    </tr>\n",
       "  </thead>\n",
       "  <tbody>\n",
       "    <tr>\n",
       "      <th>healthcare</th>\n",
       "      <td>3018</td>\n",
       "    </tr>\n",
       "    <tr>\n",
       "      <th>marketing agency</th>\n",
       "      <td>4500</td>\n",
       "    </tr>\n",
       "    <tr>\n",
       "      <th>software</th>\n",
       "      <td>1533</td>\n",
       "    </tr>\n",
       "    <tr>\n",
       "      <th>unknown</th>\n",
       "      <td>2949</td>\n",
       "    </tr>\n",
       "  </tbody>\n",
       "</table>\n",
       "</div>"
      ],
      "text/plain": [
       "col_0             count\n",
       "industry               \n",
       "healthcare         3018\n",
       "marketing agency   4500\n",
       "software           1533\n",
       "unknown            2949"
      ]
     },
     "execution_count": 48,
     "metadata": {},
     "output_type": "execute_result"
    }
   ],
   "source": [
    "test['industry'] = test['industry'].replace(['unk'],'unknown')\n",
    "test['industry'] = test['industry'].replace(['health care'],'healthcare')\n",
    "test['industry'] = test['industry'].replace(['mktg agency', 'Marketing Agency'],'marketing agency')\n",
    "pd.crosstab(index=test['industry'], columns='count') "
   ]
  },
  {
   "cell_type": "code",
   "execution_count": 49,
   "metadata": {},
   "outputs": [
    {
     "data": {
      "text/html": [
       "<div>\n",
       "<style scoped>\n",
       "    .dataframe tbody tr th:only-of-type {\n",
       "        vertical-align: middle;\n",
       "    }\n",
       "\n",
       "    .dataframe tbody tr th {\n",
       "        vertical-align: top;\n",
       "    }\n",
       "\n",
       "    .dataframe thead th {\n",
       "        text-align: right;\n",
       "    }\n",
       "</style>\n",
       "<table border=\"1\" class=\"dataframe\">\n",
       "  <thead>\n",
       "    <tr style=\"text-align: right;\">\n",
       "      <th>col_0</th>\n",
       "      <th>count</th>\n",
       "    </tr>\n",
       "    <tr>\n",
       "      <th>geography</th>\n",
       "      <th></th>\n",
       "    </tr>\n",
       "  </thead>\n",
       "  <tbody>\n",
       "    <tr>\n",
       "      <th>United States</th>\n",
       "      <td>5346</td>\n",
       "    </tr>\n",
       "    <tr>\n",
       "      <th>Canada</th>\n",
       "      <td>2539</td>\n",
       "    </tr>\n",
       "    <tr>\n",
       "      <th>United Kingdom</th>\n",
       "      <td>1345</td>\n",
       "    </tr>\n",
       "    <tr>\n",
       "      <th>Spain</th>\n",
       "      <td>930</td>\n",
       "    </tr>\n",
       "    <tr>\n",
       "      <th>India</th>\n",
       "      <td>483</td>\n",
       "    </tr>\n",
       "    <tr>\n",
       "      <th>Pakistan</th>\n",
       "      <td>472</td>\n",
       "    </tr>\n",
       "    <tr>\n",
       "      <th>France</th>\n",
       "      <td>448</td>\n",
       "    </tr>\n",
       "    <tr>\n",
       "      <th>Greece</th>\n",
       "      <td>437</td>\n",
       "    </tr>\n",
       "  </tbody>\n",
       "</table>\n",
       "</div>"
      ],
      "text/plain": [
       "col_0           count\n",
       "geography            \n",
       "United States    5346\n",
       "Canada           2539\n",
       "United Kingdom   1345\n",
       "Spain             930\n",
       "India             483\n",
       "Pakistan          472\n",
       "France            448\n",
       "Greece            437"
      ]
     },
     "execution_count": 49,
     "metadata": {},
     "output_type": "execute_result"
    }
   ],
   "source": [
    "test['geography'] = test['geography'].replace(['US', 'America', 'USA'],'United States')\n",
    "test['geography'] = test['geography'].replace(['CA'],'Canada')\n",
    "test['geography'] = test['geography'].replace(['GB', 'UK', 'England'],'United Kingdom')\n",
    "test['geography'] = test['geography'].replace(['Esp'], 'Spain')\n",
    "pd.crosstab(index=test['geography'], columns='count').sort_values('count', ascending=0)"
   ]
  },
  {
   "cell_type": "code",
   "execution_count": 50,
   "metadata": {},
   "outputs": [
    {
     "data": {
      "text/html": [
       "<div>\n",
       "<style scoped>\n",
       "    .dataframe tbody tr th:only-of-type {\n",
       "        vertical-align: middle;\n",
       "    }\n",
       "\n",
       "    .dataframe tbody tr th {\n",
       "        vertical-align: top;\n",
       "    }\n",
       "\n",
       "    .dataframe thead th {\n",
       "        text-align: right;\n",
       "    }\n",
       "</style>\n",
       "<table border=\"1\" class=\"dataframe\">\n",
       "  <thead>\n",
       "    <tr style=\"text-align: right;\">\n",
       "      <th></th>\n",
       "      <th>paid_norm</th>\n",
       "      <th>min_norm</th>\n",
       "      <th>industry</th>\n",
       "      <th>geography</th>\n",
       "      <th>most_common_browser</th>\n",
       "    </tr>\n",
       "  </thead>\n",
       "  <tbody>\n",
       "    <tr>\n",
       "      <th>0</th>\n",
       "      <td>0.583437</td>\n",
       "      <td>0.011348</td>\n",
       "      <td>healthcare</td>\n",
       "      <td>United States</td>\n",
       "      <td>Safari</td>\n",
       "    </tr>\n",
       "    <tr>\n",
       "      <th>1</th>\n",
       "      <td>0.275283</td>\n",
       "      <td>0.125246</td>\n",
       "      <td>unknown</td>\n",
       "      <td>United Kingdom</td>\n",
       "      <td>IE</td>\n",
       "    </tr>\n",
       "    <tr>\n",
       "      <th>2</th>\n",
       "      <td>0.330374</td>\n",
       "      <td>0.008089</td>\n",
       "      <td>marketing agency</td>\n",
       "      <td>Spain</td>\n",
       "      <td>Firefox</td>\n",
       "    </tr>\n",
       "    <tr>\n",
       "      <th>3</th>\n",
       "      <td>0.610834</td>\n",
       "      <td>0.119123</td>\n",
       "      <td>unknown</td>\n",
       "      <td>United States</td>\n",
       "      <td>Firefox</td>\n",
       "    </tr>\n",
       "    <tr>\n",
       "      <th>4</th>\n",
       "      <td>0.472715</td>\n",
       "      <td>0.012078</td>\n",
       "      <td>unknown</td>\n",
       "      <td>United States</td>\n",
       "      <td>Safari</td>\n",
       "    </tr>\n",
       "  </tbody>\n",
       "</table>\n",
       "</div>"
      ],
      "text/plain": [
       "   paid_norm  min_norm          industry       geography most_common_browser\n",
       "0   0.583437  0.011348        healthcare   United States              Safari\n",
       "1   0.275283  0.125246           unknown  United Kingdom                  IE\n",
       "2   0.330374  0.008089  marketing agency           Spain             Firefox\n",
       "3   0.610834  0.119123           unknown   United States             Firefox\n",
       "4   0.472715  0.012078           unknown   United States              Safari"
      ]
     },
     "execution_count": 50,
     "metadata": {},
     "output_type": "execute_result"
    }
   ],
   "source": [
    "scaler = MinMaxScaler() \n",
    "data_scaled_test = pd.DataFrame(scaler.fit_transform(test.iloc[:,5:]), columns = ['paid_norm', 'min_norm'])\n",
    "z_scores = stats.zscore(data_scaled_test)\n",
    "z_scores_abs = np.abs(z_scores)\n",
    "filtered_entries = (z_scores_abs < 3).all(axis=1)\n",
    "scaled_filtered_test = data_scaled_test[filtered_entries]\n",
    "\n",
    "scaled_filtered_test = scaled_filtered_test.join(test['industry'])\n",
    "scaled_filtered_test = scaled_filtered_test.join(test['geography'])\n",
    "scaled_filtered_test = scaled_filtered_test.join(test['most_common_browser'])\n",
    "scaled_filtered_test.head()"
   ]
  },
  {
   "cell_type": "code",
   "execution_count": 51,
   "metadata": {},
   "outputs": [
    {
     "data": {
      "text/html": [
       "<div>\n",
       "<style scoped>\n",
       "    .dataframe tbody tr th:only-of-type {\n",
       "        vertical-align: middle;\n",
       "    }\n",
       "\n",
       "    .dataframe tbody tr th {\n",
       "        vertical-align: top;\n",
       "    }\n",
       "\n",
       "    .dataframe thead th {\n",
       "        text-align: right;\n",
       "    }\n",
       "</style>\n",
       "<table border=\"1\" class=\"dataframe\">\n",
       "  <thead>\n",
       "    <tr style=\"text-align: right;\">\n",
       "      <th></th>\n",
       "      <th>paid_norm</th>\n",
       "      <th>min_norm</th>\n",
       "      <th>industry_healthcare</th>\n",
       "      <th>industry_marketing agency</th>\n",
       "      <th>industry_software</th>\n",
       "      <th>industry_unknown</th>\n",
       "      <th>geography_Canada</th>\n",
       "      <th>geography_France</th>\n",
       "      <th>geography_Greece</th>\n",
       "      <th>geography_India</th>\n",
       "      <th>geography_Pakistan</th>\n",
       "      <th>geography_Spain</th>\n",
       "      <th>geography_United Kingdom</th>\n",
       "      <th>geography_United States</th>\n",
       "      <th>most_common_browser_Chrome</th>\n",
       "      <th>most_common_browser_Firefox</th>\n",
       "      <th>most_common_browser_IE</th>\n",
       "      <th>most_common_browser_Safari</th>\n",
       "    </tr>\n",
       "  </thead>\n",
       "  <tbody>\n",
       "    <tr>\n",
       "      <th>0</th>\n",
       "      <td>0.583437</td>\n",
       "      <td>0.011348</td>\n",
       "      <td>1</td>\n",
       "      <td>0</td>\n",
       "      <td>0</td>\n",
       "      <td>0</td>\n",
       "      <td>0</td>\n",
       "      <td>0</td>\n",
       "      <td>0</td>\n",
       "      <td>0</td>\n",
       "      <td>0</td>\n",
       "      <td>0</td>\n",
       "      <td>0</td>\n",
       "      <td>1</td>\n",
       "      <td>0</td>\n",
       "      <td>0</td>\n",
       "      <td>0</td>\n",
       "      <td>1</td>\n",
       "    </tr>\n",
       "    <tr>\n",
       "      <th>1</th>\n",
       "      <td>0.275283</td>\n",
       "      <td>0.125246</td>\n",
       "      <td>0</td>\n",
       "      <td>0</td>\n",
       "      <td>0</td>\n",
       "      <td>1</td>\n",
       "      <td>0</td>\n",
       "      <td>0</td>\n",
       "      <td>0</td>\n",
       "      <td>0</td>\n",
       "      <td>0</td>\n",
       "      <td>0</td>\n",
       "      <td>1</td>\n",
       "      <td>0</td>\n",
       "      <td>0</td>\n",
       "      <td>0</td>\n",
       "      <td>1</td>\n",
       "      <td>0</td>\n",
       "    </tr>\n",
       "    <tr>\n",
       "      <th>2</th>\n",
       "      <td>0.330374</td>\n",
       "      <td>0.008089</td>\n",
       "      <td>0</td>\n",
       "      <td>1</td>\n",
       "      <td>0</td>\n",
       "      <td>0</td>\n",
       "      <td>0</td>\n",
       "      <td>0</td>\n",
       "      <td>0</td>\n",
       "      <td>0</td>\n",
       "      <td>0</td>\n",
       "      <td>1</td>\n",
       "      <td>0</td>\n",
       "      <td>0</td>\n",
       "      <td>0</td>\n",
       "      <td>1</td>\n",
       "      <td>0</td>\n",
       "      <td>0</td>\n",
       "    </tr>\n",
       "    <tr>\n",
       "      <th>3</th>\n",
       "      <td>0.610834</td>\n",
       "      <td>0.119123</td>\n",
       "      <td>0</td>\n",
       "      <td>0</td>\n",
       "      <td>0</td>\n",
       "      <td>1</td>\n",
       "      <td>0</td>\n",
       "      <td>0</td>\n",
       "      <td>0</td>\n",
       "      <td>0</td>\n",
       "      <td>0</td>\n",
       "      <td>0</td>\n",
       "      <td>0</td>\n",
       "      <td>1</td>\n",
       "      <td>0</td>\n",
       "      <td>1</td>\n",
       "      <td>0</td>\n",
       "      <td>0</td>\n",
       "    </tr>\n",
       "    <tr>\n",
       "      <th>4</th>\n",
       "      <td>0.472715</td>\n",
       "      <td>0.012078</td>\n",
       "      <td>0</td>\n",
       "      <td>0</td>\n",
       "      <td>0</td>\n",
       "      <td>1</td>\n",
       "      <td>0</td>\n",
       "      <td>0</td>\n",
       "      <td>0</td>\n",
       "      <td>0</td>\n",
       "      <td>0</td>\n",
       "      <td>0</td>\n",
       "      <td>0</td>\n",
       "      <td>1</td>\n",
       "      <td>0</td>\n",
       "      <td>0</td>\n",
       "      <td>0</td>\n",
       "      <td>1</td>\n",
       "    </tr>\n",
       "  </tbody>\n",
       "</table>\n",
       "</div>"
      ],
      "text/plain": [
       "   paid_norm  min_norm  industry_healthcare  industry_marketing agency  \\\n",
       "0   0.583437  0.011348                    1                          0   \n",
       "1   0.275283  0.125246                    0                          0   \n",
       "2   0.330374  0.008089                    0                          1   \n",
       "3   0.610834  0.119123                    0                          0   \n",
       "4   0.472715  0.012078                    0                          0   \n",
       "\n",
       "   industry_software  industry_unknown  geography_Canada  geography_France  \\\n",
       "0                  0                 0                 0                 0   \n",
       "1                  0                 1                 0                 0   \n",
       "2                  0                 0                 0                 0   \n",
       "3                  0                 1                 0                 0   \n",
       "4                  0                 1                 0                 0   \n",
       "\n",
       "   geography_Greece  geography_India  geography_Pakistan  geography_Spain  \\\n",
       "0                 0                0                   0                0   \n",
       "1                 0                0                   0                0   \n",
       "2                 0                0                   0                1   \n",
       "3                 0                0                   0                0   \n",
       "4                 0                0                   0                0   \n",
       "\n",
       "   geography_United Kingdom  geography_United States  \\\n",
       "0                         0                        1   \n",
       "1                         1                        0   \n",
       "2                         0                        0   \n",
       "3                         0                        1   \n",
       "4                         0                        1   \n",
       "\n",
       "   most_common_browser_Chrome  most_common_browser_Firefox  \\\n",
       "0                           0                            0   \n",
       "1                           0                            0   \n",
       "2                           0                            1   \n",
       "3                           0                            1   \n",
       "4                           0                            0   \n",
       "\n",
       "   most_common_browser_IE  most_common_browser_Safari  \n",
       "0                       0                           1  \n",
       "1                       1                           0  \n",
       "2                       0                           0  \n",
       "3                       0                           0  \n",
       "4                       0                           1  "
      ]
     },
     "execution_count": 51,
     "metadata": {},
     "output_type": "execute_result"
    }
   ],
   "source": [
    "# Create dummy variables from categorical features\n",
    "test_dummy = pd.get_dummies(scaled_filtered_test)\n",
    "test_dummy.head()"
   ]
  },
  {
   "cell_type": "code",
   "execution_count": 52,
   "metadata": {},
   "outputs": [
    {
     "data": {
      "text/plain": [
       "LinearRegression(copy_X=True, fit_intercept=True, n_jobs=None, normalize=False)"
      ]
     },
     "execution_count": 52,
     "metadata": {},
     "output_type": "execute_result"
    }
   ],
   "source": [
    "regressor.fit(test_dummy.loc[:, test_dummy.columns != 'paid_norm'],\n",
    "              test_dummy['paid_norm'].values.reshape(-1,1))"
   ]
  },
  {
   "cell_type": "code",
   "execution_count": 53,
   "metadata": {},
   "outputs": [
    {
     "name": "stdout",
     "output_type": "stream",
     "text": [
      "Intercept:  [-1.93448228e+12]\n",
      "Coefficients:  [[1.00640857e+00 9.84775219e+11 9.84775219e+11 9.84775219e+11\n",
      "  9.84775218e+11 4.89744630e+11 4.89744630e+11 4.89744630e+11\n",
      "  4.89744630e+11 4.89744630e+11 4.89744630e+11 4.89744630e+11\n",
      "  4.89744630e+11 4.59962433e+11 4.59962433e+11 4.59962433e+11\n",
      "  4.59962433e+11]]\n"
     ]
    }
   ],
   "source": [
    "print('Intercept: ', regressor.intercept_)\n",
    "print('Coefficients: ', regressor.coef_)"
   ]
  },
  {
   "cell_type": "code",
   "execution_count": 54,
   "metadata": {},
   "outputs": [],
   "source": [
    "pred = regressor.predict(test_dummy.loc[:, test_dummy.columns != 'paid_norm'])"
   ]
  },
  {
   "cell_type": "code",
   "execution_count": 55,
   "metadata": {},
   "outputs": [
    {
     "name": "stdout",
     "output_type": "stream",
     "text": [
      "RMSE:  0.030299397171199862\n"
     ]
    }
   ],
   "source": [
    "mse = mean_squared_error(test_dummy['paid_norm'].values.reshape(-1,1), pred)\n",
    "rmse = np.sqrt(mse)\n",
    "print('RMSE: ', rmse)"
   ]
  },
  {
   "cell_type": "code",
   "execution_count": 56,
   "metadata": {},
   "outputs": [],
   "source": [
    "X2 = sm.add_constant(test_dummy.loc[:, test_dummy.columns != 'paid_norm'])"
   ]
  },
  {
   "cell_type": "code",
   "execution_count": 57,
   "metadata": {},
   "outputs": [
    {
     "name": "stdout",
     "output_type": "stream",
     "text": [
      "                            OLS Regression Results                            \n",
      "==============================================================================\n",
      "Dep. Variable:                      y   R-squared:                       0.978\n",
      "Model:                            OLS   Adj. R-squared:                  0.978\n",
      "Method:                 Least Squares   F-statistic:                 3.717e+04\n",
      "Date:                Fri, 07 Aug 2020   Prob (F-statistic):               0.00\n",
      "Time:                        13:50:36   Log-Likelihood:                 24448.\n",
      "No. Observations:               11766   AIC:                        -4.887e+04\n",
      "Df Residuals:                   11751   BIC:                        -4.876e+04\n",
      "Df Model:                          14                                         \n",
      "Covariance Type:            nonrobust                                         \n",
      "===============================================================================================\n",
      "                                  coef    std err          t      P>|t|      [0.025      0.975]\n",
      "-----------------------------------------------------------------------------------------------\n",
      "const                           0.1912      0.000    591.234      0.000       0.191       0.192\n",
      "min_norm                        1.0066      0.006    167.933      0.000       0.995       1.018\n",
      "industry_healthcare             0.0443      0.000     88.577      0.000       0.043       0.045\n",
      "industry_marketing agency       0.1999      0.000    459.860      0.000       0.199       0.201\n",
      "industry_software               0.0268      0.001     41.202      0.000       0.026       0.028\n",
      "industry_unknown               -0.0798      0.001   -158.821      0.000      -0.081      -0.079\n",
      "geography_Canada                0.2175      0.001    334.289      0.000       0.216       0.219\n",
      "geography_France               -0.0639      0.001    -48.436      0.000      -0.067      -0.061\n",
      "geography_Greece               -0.0610      0.001    -45.529      0.000      -0.064      -0.058\n",
      "geography_India                -0.0625      0.001    -48.911      0.000      -0.065      -0.060\n",
      "geography_Pakistan             -0.0606      0.001    -47.176      0.000      -0.063      -0.058\n",
      "geography_Spain                -0.0606      0.001    -63.315      0.000      -0.062      -0.059\n",
      "geography_United Kingdom       -0.0292      0.001    -35.551      0.000      -0.031      -0.028\n",
      "geography_United States         0.3115      0.001    595.418      0.000       0.311       0.313\n",
      "most_common_browser_Chrome      0.0483      0.000    119.259      0.000       0.047       0.049\n",
      "most_common_browser_Firefox     0.0484      0.001     82.409      0.000       0.047       0.050\n",
      "most_common_browser_IE          0.0473      0.001     80.322      0.000       0.046       0.048\n",
      "most_common_browser_Safari      0.0472      0.001     80.174      0.000       0.046       0.048\n",
      "==============================================================================\n",
      "Omnibus:                      893.750   Durbin-Watson:                   2.022\n",
      "Prob(Omnibus):                  0.000   Jarque-Bera (JB):             1115.638\n",
      "Skew:                          -0.715   Prob(JB):                    5.53e-243\n",
      "Kurtosis:                       3.483   Cond. No.                     2.74e+16\n",
      "==============================================================================\n",
      "\n",
      "Warnings:\n",
      "[1] Standard Errors assume that the covariance matrix of the errors is correctly specified.\n",
      "[2] The smallest eigenvalue is 3.02e-29. This might indicate that there are\n",
      "strong multicollinearity problems or that the design matrix is singular.\n"
     ]
    }
   ],
   "source": [
    "est = sm.OLS(test_dummy['paid_norm'].values.reshape(-1,1), X2)\n",
    "est2 = est.fit()\n",
    "print(est2.summary())"
   ]
  },
  {
   "cell_type": "markdown",
   "metadata": {},
   "source": [
    "### Similar to when the model was ran on the training date, it performed very well with an R^2 value of .978 and and RMSE of  .0303. Again, low p-values indicate we do not need to remove any features."
   ]
  },
  {
   "cell_type": "markdown",
   "metadata": {},
   "source": [
    "# Question 5:"
   ]
  },
  {
   "cell_type": "markdown",
   "metadata": {},
   "source": [
    "### My recommendation to the company would be to continue marketing efforts towards customers based in the US or Canada and customers from the marketing industy, but also to push a little harder in the other countries/industries to increase sales in those markets. I would also recommend finding a way to standardize the way the industry and country are input (multiple choice or dropdown) into the customer data so that part of the carpentry process can be avoided in the future."
   ]
  }
 ],
 "metadata": {
  "kernelspec": {
   "display_name": "Python 3",
   "language": "python",
   "name": "python3"
  },
  "language_info": {
   "codemirror_mode": {
    "name": "ipython",
    "version": 3
   },
   "file_extension": ".py",
   "mimetype": "text/x-python",
   "name": "python",
   "nbconvert_exporter": "python",
   "pygments_lexer": "ipython3",
   "version": "3.7.6"
  }
 },
 "nbformat": 4,
 "nbformat_minor": 4
}
